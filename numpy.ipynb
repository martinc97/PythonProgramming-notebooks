{
  "cells": [
    {
      "cell_type": "markdown",
      "metadata": {
        "id": "view-in-github",
        "colab_type": "text"
      },
      "source": [
        "<a href=\"https://colab.research.google.com/github/martinc97/PythonProgramming-notebooks/blob/main/numpy.ipynb\" target=\"_parent\"><img src=\"https://colab.research.google.com/assets/colab-badge.svg\" alt=\"Open In Colab\"/></a>"
      ]
    },
    {
      "cell_type": "markdown",
      "metadata": {
        "id": "_QrUqut3RwZL"
      },
      "source": [
        "# *Numerical Python*: NumPy"
      ]
    },
    {
      "cell_type": "markdown",
      "metadata": {
        "id": "nAqGy_s4RwZO"
      },
      "source": [
        "## Contenidos\n",
        "\n",
        "> \"*I do not fear computers. I fear lack of them.*\" **Isaac Asimov**\n",
        "\n",
        "- Paquete de computación científica NumPy\n",
        "\n",
        "    - Introducción\n",
        "    \n",
        "    - Conceptos básicos y ejemplos\n",
        "    \n",
        "    - Ejercicios"
      ]
    },
    {
      "cell_type": "markdown",
      "metadata": {
        "id": "ZcoP9AhERwZP"
      },
      "source": [
        "# NumPy\n",
        "\n",
        "- Paquete de Python para **computación científica** de **alto desempeño** sobre vectores, matrices y estructuras de mayores dimensiones (tensores).\n",
        "\n",
        "- Implementado en C y Fortran, por lo que cuando se **vectorizan** las oepraciones, el desempeño es muy bueno.\n",
        "\n",
        "- Ofrece una estructura de datos `ndarray` para procesar de forma **eficiente** datos homogéneos.\n",
        "\n",
        "- Capacidades de algebra lineal, transformada de Fourier y generación de números aleatorios."
      ]
    },
    {
      "cell_type": "markdown",
      "metadata": {
        "id": "eXc7Ju12RwZP"
      },
      "source": [
        "# Pero, ¿y las listas de Python?\n",
        "\n",
        "- Las listas son muy generales, pueden contener cualquier tipo de objeto.\n",
        "\n",
        "    - Implementan tipos dinámicos.\n",
        "    \n",
        "    - No permiten operaciones matemáticas como la *multiplicación matricial* o *producto punto*.\n",
        "    \n",
        "- Los vectores de NumPy son de tipado estático y homogéneo. El tipo del arreglo se determina cuando se crea el vector.\n",
        "\n",
        "    - Son eficientes en memoria.\n",
        "    \n",
        "    - Es posible implementar **funciones universales** (ufuncs). \n",
        "    \n",
        "    - El tipado estático permite implementar operaciones matemáticas de forma eficiente a través de C y Fortran.\n",
        "    "
      ]
    },
    {
      "cell_type": "markdown",
      "metadata": {
        "id": "5cGS67SsRwZQ"
      },
      "source": [
        "### Scientific computing benchmark"
      ]
    },
    {
      "cell_type": "markdown",
      "metadata": {
        "id": "jLirKzyPRwZQ"
      },
      "source": [
        "- [5 Reasons You Should Know NumPy](https://insights.dice.com/2016/09/01/5-reasons-know-numpy/)\n",
        "- [Matlab, Python, Julia: What to Choose in Economics?](https://lmaliar.ws.gc.cuny.edu/files/2021/03/Coleman2020_Article_MatlabPythonJuliaWhatToChooseI.pdf)\n",
        "- [Aruoba, SB. A Comparison of Programming Languages in Economics](https://www.nber.org/system/files/working_papers/w20263/w20263.pdf)\n",
        "- [Aruoba, SB., Fernández-Villaverde, Jesús. A Comparison of Programming Languages in Economics: An Update](https://www.sas.upenn.edu/~jesusfv/Update_March_23_2018.pdf)\n",
        "\n",
        "<!-- Julia benchmarks -->\n",
        "![julia-benchmarks.svg](https://julialang.org/assets/benchmarks/benchmarks.svg)\n"
      ]
    },
    {
      "cell_type": "markdown",
      "metadata": {
        "id": "Taacnxt0RwZR"
      },
      "source": [
        "## Importando NumPy"
      ]
    },
    {
      "cell_type": "code",
      "execution_count": null,
      "metadata": {
        "id": "JQnuP-MjRwZR"
      },
      "outputs": [],
      "source": [
        "import numpy as np"
      ]
    },
    {
      "cell_type": "markdown",
      "metadata": {
        "id": "7D2hfpdmRwZS"
      },
      "source": [
        "- Revisamos la versión de NumPy"
      ]
    },
    {
      "cell_type": "code",
      "execution_count": null,
      "metadata": {
        "id": "-1PJ46IoRwZT",
        "outputId": "cf364b66-61da-4ab9-dece-7a1ab59f6431"
      },
      "outputs": [
        {
          "data": {
            "text/plain": [
              "'1.20.3'"
            ]
          },
          "execution_count": 3,
          "metadata": {},
          "output_type": "execute_result"
        }
      ],
      "source": [
        "np.__version__"
      ]
    },
    {
      "cell_type": "markdown",
      "metadata": {
        "id": "zW5MO8tmRwZU"
      },
      "source": [
        "### Obteniendo ayuda"
      ]
    },
    {
      "cell_type": "code",
      "execution_count": null,
      "metadata": {
        "id": "4C5ECKVMRwZU",
        "outputId": "e6d1861e-5ff1-4d7d-d051-841d4d88cb2b"
      },
      "outputs": [
        {
          "name": "stdout",
          "output_type": "stream",
          "text": [
            "\u001b[1;31mInit signature:\u001b[0m \u001b[0mnp\u001b[0m\u001b[1;33m.\u001b[0m\u001b[0mndarray\u001b[0m\u001b[1;33m(\u001b[0m\u001b[0mself\u001b[0m\u001b[1;33m,\u001b[0m \u001b[1;33m/\u001b[0m\u001b[1;33m,\u001b[0m \u001b[1;33m*\u001b[0m\u001b[0margs\u001b[0m\u001b[1;33m,\u001b[0m \u001b[1;33m**\u001b[0m\u001b[0mkwargs\u001b[0m\u001b[1;33m)\u001b[0m\u001b[1;33m\u001b[0m\u001b[1;33m\u001b[0m\u001b[0m\n",
            "\u001b[1;31mDocstring:\u001b[0m     \n",
            "ndarray(shape, dtype=float, buffer=None, offset=0,\n",
            "        strides=None, order=None)\n",
            "\n",
            "An array object represents a multidimensional, homogeneous array\n",
            "of fixed-size items.  An associated data-type object describes the\n",
            "format of each element in the array (its byte-order, how many bytes it\n",
            "occupies in memory, whether it is an integer, a floating point number,\n",
            "or something else, etc.)\n",
            "\n",
            "Arrays should be constructed using `array`, `zeros` or `empty` (refer\n",
            "to the See Also section below).  The parameters given here refer to\n",
            "a low-level method (`ndarray(...)`) for instantiating an array.\n",
            "\n",
            "For more information, refer to the `numpy` module and examine the\n",
            "methods and attributes of an array.\n",
            "\n",
            "Parameters\n",
            "----------\n",
            "(for the __new__ method; see Notes below)\n",
            "\n",
            "shape : tuple of ints\n",
            "    Shape of created array.\n",
            "dtype : data-type, optional\n",
            "    Any object that can be interpreted as a numpy data type.\n",
            "buffer : object exposing buffer interface, optional\n",
            "    Used to fill the array with data.\n",
            "offset : int, optional\n",
            "    Offset of array data in buffer.\n",
            "strides : tuple of ints, optional\n",
            "    Strides of data in memory.\n",
            "order : {'C', 'F'}, optional\n",
            "    Row-major (C-style) or column-major (Fortran-style) order.\n",
            "\n",
            "Attributes\n",
            "----------\n",
            "T : ndarray\n",
            "    Transpose of the array.\n",
            "data : buffer\n",
            "    The array's elements, in memory.\n",
            "dtype : dtype object\n",
            "    Describes the format of the elements in the array.\n",
            "flags : dict\n",
            "    Dictionary containing information related to memory use, e.g.,\n",
            "    'C_CONTIGUOUS', 'OWNDATA', 'WRITEABLE', etc.\n",
            "flat : numpy.flatiter object\n",
            "    Flattened version of the array as an iterator.  The iterator\n",
            "    allows assignments, e.g., ``x.flat = 3`` (See `ndarray.flat` for\n",
            "    assignment examples; TODO).\n",
            "imag : ndarray\n",
            "    Imaginary part of the array.\n",
            "real : ndarray\n",
            "    Real part of the array.\n",
            "size : int\n",
            "    Number of elements in the array.\n",
            "itemsize : int\n",
            "    The memory use of each array element in bytes.\n",
            "nbytes : int\n",
            "    The total number of bytes required to store the array data,\n",
            "    i.e., ``itemsize * size``.\n",
            "ndim : int\n",
            "    The array's number of dimensions.\n",
            "shape : tuple of ints\n",
            "    Shape of the array.\n",
            "strides : tuple of ints\n",
            "    The step-size required to move from one element to the next in\n",
            "    memory. For example, a contiguous ``(3, 4)`` array of type\n",
            "    ``int16`` in C-order has strides ``(8, 2)``.  This implies that\n",
            "    to move from element to element in memory requires jumps of 2 bytes.\n",
            "    To move from row-to-row, one needs to jump 8 bytes at a time\n",
            "    (``2 * 4``).\n",
            "ctypes : ctypes object\n",
            "    Class containing properties of the array needed for interaction\n",
            "    with ctypes.\n",
            "base : ndarray\n",
            "    If the array is a view into another array, that array is its `base`\n",
            "    (unless that array is also a view).  The `base` array is where the\n",
            "    array data is actually stored.\n",
            "\n",
            "See Also\n",
            "--------\n",
            "array : Construct an array.\n",
            "zeros : Create an array, each element of which is zero.\n",
            "empty : Create an array, but leave its allocated memory unchanged (i.e.,\n",
            "        it contains \"garbage\").\n",
            "dtype : Create a data-type.\n",
            "numpy.typing.NDArray : A :term:`generic <generic type>` version\n",
            "                       of ndarray.\n",
            "\n",
            "Notes\n",
            "-----\n",
            "There are two modes of creating an array using ``__new__``:\n",
            "\n",
            "1. If `buffer` is None, then only `shape`, `dtype`, and `order`\n",
            "   are used.\n",
            "2. If `buffer` is an object exposing the buffer interface, then\n",
            "   all keywords are interpreted.\n",
            "\n",
            "No ``__init__`` method is needed because the array is fully initialized\n",
            "after the ``__new__`` method.\n",
            "\n",
            "Examples\n",
            "--------\n",
            "These examples illustrate the low-level `ndarray` constructor.  Refer\n",
            "to the `See Also` section above for easier ways of constructing an\n",
            "ndarray.\n",
            "\n",
            "First mode, `buffer` is None:\n",
            "\n",
            ">>> np.ndarray(shape=(2,2), dtype=float, order='F')\n",
            "array([[0.0e+000, 0.0e+000], # random\n",
            "       [     nan, 2.5e-323]])\n",
            "\n",
            "Second mode:\n",
            "\n",
            ">>> np.ndarray((2,), buffer=np.array([1,2,3]),\n",
            "...            offset=np.int_().itemsize,\n",
            "...            dtype=int) # offset = 1*itemsize, i.e. skip first element\n",
            "array([2, 3])\n",
            "\u001b[1;31mFile:\u001b[0m           c:\\users\\rodrigo\\miniconda3\\envs\\bg\\lib\\site-packages\\numpy\\__init__.py\n",
            "\u001b[1;31mType:\u001b[0m           type\n",
            "\u001b[1;31mSubclasses:\u001b[0m     chararray, recarray, memmap, matrix, MaskedArray\n"
          ]
        }
      ],
      "source": [
        "# Obtiene una ventana de ayuda\n",
        "np.ndarray?"
      ]
    },
    {
      "cell_type": "code",
      "execution_count": null,
      "metadata": {
        "id": "wSysVh-oRwZV"
      },
      "outputs": [],
      "source": [
        "# Función help para una función\n",
        "help(np.array)"
      ]
    },
    {
      "cell_type": "markdown",
      "metadata": {
        "id": "a1vmI5nwRwZV"
      },
      "source": [
        "***\n",
        "## La clase `ndarray`"
      ]
    },
    {
      "cell_type": "markdown",
      "metadata": {
        "id": "JRGOeZ0hRwZV"
      },
      "source": [
        "- La clase básica de NumPy se llama `ndarray` (alias `array`). Sus atributos más importantes son: \n",
        "\n",
        "    - `ndarray.ndim` : número de dimensiones del arreglo.\n",
        "\n",
        "    - `ndarray.shape` : dimensiones del arreglo. Esta es una **tupla de enteros** que indica el tamaño de la matriz en cada dimensión. Para una matriz con $n$ filas y $m$ columnas, la forma será $(n, m)$. La longitud de la tupla de forma es, por lo tanto, el número de ejes, `ndim`.\n",
        "\n",
        "    - `darray.size` : el número total de elementos del arreglo. Es igual al producto de los elementos de la tupla `shape`.\n",
        "\n",
        "    - `ndarray.dtype` : un **objeto** que describe el **tipo** de los elementos en el arreglo. Es posible crear y especificar `dtypes` propios.\n",
        "        - Adicionalmente, NumPy provee algunos tipos propios muy utilizados: `numpy.int32`, `numpy.int16`, and `numpy.float64`.\n",
        "\n",
        "    - `ndarray.itemsize` : el tamaño en bytes de cada elemento en el arreglo. Por ejemplo, un arreglo de tipo `float64` tiene tamaño en bytes de $8 (=64/8)$. Equivalente a `ndarray.dtype.itemsize`.\n",
        "\n",
        "    - `ndarray.data` : el búfer que contiene los elementos del arreglo. Aunque normalmente, no accedemos al atributo directamente, ya que hacemos uso de los elementos con *slicing*.\n",
        "\n"
      ]
    },
    {
      "cell_type": "code",
      "execution_count": null,
      "metadata": {
        "id": "FB9qtvSlRwZV",
        "outputId": "ba97f695-1cde-426a-f7d8-4ffb0654b97c"
      },
      "outputs": [
        {
          "data": {
            "text/plain": [
              "array([[ 0,  1,  2,  3,  4],\n",
              "       [ 5,  6,  7,  8,  9],\n",
              "       [10, 11, 12, 13, 14]])"
            ]
          },
          "execution_count": 10,
          "metadata": {},
          "output_type": "execute_result"
        }
      ],
      "source": [
        "a = np.arange(15).reshape(3, 5)\n",
        "a"
      ]
    },
    {
      "cell_type": "code",
      "execution_count": null,
      "metadata": {
        "id": "cPeeepQhRwZW",
        "outputId": "24c34f87-84b8-4755-806b-509e92b0eef9"
      },
      "outputs": [
        {
          "data": {
            "text/plain": [
              "(3, 5)"
            ]
          },
          "execution_count": 11,
          "metadata": {},
          "output_type": "execute_result"
        }
      ],
      "source": [
        "a.shape"
      ]
    },
    {
      "cell_type": "code",
      "execution_count": null,
      "metadata": {
        "id": "1rhkrrn6RwZW",
        "outputId": "800c7f5b-00ed-4195-a467-c374db995761"
      },
      "outputs": [
        {
          "data": {
            "text/plain": [
              "2"
            ]
          },
          "execution_count": 12,
          "metadata": {},
          "output_type": "execute_result"
        }
      ],
      "source": [
        "a.ndim"
      ]
    },
    {
      "cell_type": "code",
      "execution_count": null,
      "metadata": {
        "id": "6EZR3NKLRwZW",
        "outputId": "5d26a8cb-3b8a-4dc2-ede7-d9e38de31d14"
      },
      "outputs": [
        {
          "data": {
            "text/plain": [
              "dtype('int32')"
            ]
          },
          "execution_count": 14,
          "metadata": {},
          "output_type": "execute_result"
        }
      ],
      "source": [
        "a.dtype"
      ]
    },
    {
      "cell_type": "code",
      "execution_count": null,
      "metadata": {
        "id": "8xR1jE3LRwZW",
        "outputId": "036be987-0fbf-454c-c515-ba37fab44f75"
      },
      "outputs": [
        {
          "data": {
            "text/plain": [
              "'int32'"
            ]
          },
          "execution_count": 13,
          "metadata": {},
          "output_type": "execute_result"
        }
      ],
      "source": [
        "a.dtype.name"
      ]
    },
    {
      "cell_type": "code",
      "execution_count": null,
      "metadata": {
        "id": "6dgudDDPRwZX",
        "outputId": "d7b83be5-1ab3-4c0b-d953-40d649b470e1"
      },
      "outputs": [
        {
          "data": {
            "text/plain": [
              "4"
            ]
          },
          "execution_count": 15,
          "metadata": {},
          "output_type": "execute_result"
        }
      ],
      "source": [
        "a.itemsize"
      ]
    },
    {
      "cell_type": "code",
      "execution_count": null,
      "metadata": {
        "id": "HQk0PDuiRwZX",
        "outputId": "b37cef12-0583-462b-d127-24816ed448ea"
      },
      "outputs": [
        {
          "data": {
            "text/plain": [
              "15"
            ]
          },
          "execution_count": 16,
          "metadata": {},
          "output_type": "execute_result"
        }
      ],
      "source": [
        "a.size"
      ]
    },
    {
      "cell_type": "code",
      "execution_count": null,
      "metadata": {
        "id": "nl4JkZ3yRwZX",
        "outputId": "4bc41aab-0216-4c76-9226-44d2bbe926f6"
      },
      "outputs": [
        {
          "data": {
            "text/plain": [
              "numpy.ndarray"
            ]
          },
          "execution_count": 17,
          "metadata": {},
          "output_type": "execute_result"
        }
      ],
      "source": [
        "type(a)"
      ]
    },
    {
      "cell_type": "markdown",
      "metadata": {
        "id": "qcXZ2r9pRwZY"
      },
      "source": [
        "***\n",
        "## **Creando arreglos N-dimensionales de NumPy**\n",
        "\n",
        "- Hay varias formas de inicializar nuevas matrices numpy, por ejemplo desde\n",
        "\n",
        "    - Una lista de Python o tuplas.\n",
        "    \n",
        "    - Utilizando funciones dedicadas a **generar** arreglos de NumPy.\n",
        "    \n",
        "    - Leer información de archivos. "
      ]
    },
    {
      "cell_type": "code",
      "execution_count": null,
      "metadata": {
        "id": "JL_SihvqRwZY",
        "outputId": "4ecbc23a-5ca4-4aa0-cb7a-5ee88d668b9a"
      },
      "outputs": [
        {
          "data": {
            "text/plain": [
              "array([2, 3, 4])"
            ]
          },
          "execution_count": 19,
          "metadata": {},
          "output_type": "execute_result"
        }
      ],
      "source": [
        "a = np.array([2,3,4])\n",
        "a"
      ]
    },
    {
      "cell_type": "code",
      "execution_count": null,
      "metadata": {
        "id": "WjVKpkmWRwZY",
        "outputId": "0038eb67-46e7-4d96-c833-7c7ffc6dcaac"
      },
      "outputs": [
        {
          "data": {
            "text/plain": [
              "dtype('int32')"
            ]
          },
          "execution_count": 20,
          "metadata": {},
          "output_type": "execute_result"
        }
      ],
      "source": [
        "a.dtype"
      ]
    },
    {
      "cell_type": "code",
      "execution_count": null,
      "metadata": {
        "id": "NMs8F8IdRwZY",
        "outputId": "db749d0b-b305-46f1-b6aa-8256cc1bb43c"
      },
      "outputs": [
        {
          "data": {
            "text/plain": [
              "array([1.2, 3.5, 5.1])"
            ]
          },
          "execution_count": 21,
          "metadata": {},
          "output_type": "execute_result"
        }
      ],
      "source": [
        "b = np.array([1.2, 3.5, 5.1])\n",
        "b"
      ]
    },
    {
      "cell_type": "code",
      "execution_count": null,
      "metadata": {
        "id": "5fwr7QGURwZY",
        "outputId": "98713c2e-379a-4088-f2ab-0be6f30bb877"
      },
      "outputs": [
        {
          "data": {
            "text/plain": [
              "dtype('float64')"
            ]
          },
          "execution_count": 22,
          "metadata": {},
          "output_type": "execute_result"
        }
      ],
      "source": [
        "b.dtype"
      ]
    },
    {
      "cell_type": "markdown",
      "metadata": {
        "id": "W0w6dJbYRwZZ"
      },
      "source": [
        "#### Error frecuente\n",
        "\n",
        "Crear el arreglo con varios argumentos en vez de proveer una sola lista o secuencia como argumento"
      ]
    },
    {
      "cell_type": "code",
      "execution_count": null,
      "metadata": {
        "id": "h2aytwcBRwZZ",
        "outputId": "ace86a89-0a6a-460e-8a50-7c1d77eaf757"
      },
      "outputs": [
        {
          "ename": "ValueError",
          "evalue": "only 2 non-keyword arguments accepted",
          "output_type": "error",
          "traceback": [
            "\u001b[1;31m---------------------------------------------------------------------------\u001b[0m",
            "\u001b[1;31mValueError\u001b[0m                                Traceback (most recent call last)",
            "\u001b[1;32m<ipython-input-24-9f76cd579003>\u001b[0m in \u001b[0;36m<module>\u001b[1;34m\u001b[0m\n\u001b[0;32m      1\u001b[0m \u001b[1;31m# Error frecuente\u001b[0m\u001b[1;33m\u001b[0m\u001b[1;33m\u001b[0m\u001b[1;33m\u001b[0m\u001b[0m\n\u001b[1;32m----> 2\u001b[1;33m \u001b[0ma\u001b[0m \u001b[1;33m=\u001b[0m \u001b[0mnp\u001b[0m\u001b[1;33m.\u001b[0m\u001b[0marray\u001b[0m\u001b[1;33m(\u001b[0m\u001b[1;36m1\u001b[0m\u001b[1;33m,\u001b[0m\u001b[1;36m2\u001b[0m\u001b[1;33m,\u001b[0m\u001b[1;36m3\u001b[0m\u001b[1;33m,\u001b[0m\u001b[1;36m4\u001b[0m\u001b[1;33m)\u001b[0m\u001b[1;33m\u001b[0m\u001b[1;33m\u001b[0m\u001b[0m\n\u001b[0m",
            "\u001b[1;31mValueError\u001b[0m: only 2 non-keyword arguments accepted"
          ]
        }
      ],
      "source": [
        "# Error frecuente\n",
        "a = np.array(1,2,3,4)"
      ]
    },
    {
      "cell_type": "markdown",
      "metadata": {
        "id": "zGtPpIOrRwZZ"
      },
      "source": [
        "### A partir de listas o tuplas \n",
        "`ndarray` transforma secuencias de secuencias en matrices bidimensionales, secuencias de secuencias de secuencias en matrices tridimensionales, etc."
      ]
    },
    {
      "cell_type": "code",
      "execution_count": null,
      "metadata": {
        "id": "_XwlysIvRwZZ",
        "outputId": "1b23c47f-0914-4759-e5f6-eb68134f5b70"
      },
      "outputs": [
        {
          "data": {
            "text/plain": [
              "array([[1.5, 2. , 3. ],\n",
              "       [4. , 5. , 6. ]])"
            ]
          },
          "execution_count": 27,
          "metadata": {},
          "output_type": "execute_result"
        }
      ],
      "source": [
        "b = np.array([[1.5,2,3], [4,5,6]])\n",
        "b"
      ]
    },
    {
      "cell_type": "markdown",
      "metadata": {
        "id": "6QN90CV2RwZZ"
      },
      "source": [
        "El tipo de matriz también se puede especificar explícitamente en el momento de la creación:"
      ]
    },
    {
      "cell_type": "code",
      "execution_count": null,
      "metadata": {
        "id": "XUHA8hRJRwZZ",
        "outputId": "51a5edc3-c414-43b1-8f39-ff4a414666d9"
      },
      "outputs": [
        {
          "data": {
            "text/plain": [
              "array([[1.+0.j, 2.+0.j],\n",
              "       [3.+0.j, 4.+0.j]])"
            ]
          },
          "execution_count": 29,
          "metadata": {},
          "output_type": "execute_result"
        }
      ],
      "source": [
        "c = np.array( [ [1,2], [3,4] ], dtype=complex )\n",
        "c"
      ]
    },
    {
      "cell_type": "markdown",
      "metadata": {
        "id": "HSiJ2We2RwZa"
      },
      "source": [
        "### Funciones de generación de arreglos"
      ]
    },
    {
      "cell_type": "code",
      "execution_count": null,
      "metadata": {
        "id": "ENnXJQd6RwZa",
        "outputId": "8b346ee0-ce5f-4c6c-9a22-289bf5f17fd1"
      },
      "outputs": [
        {
          "data": {
            "text/plain": [
              "array([10, 15, 20, 25])"
            ]
          },
          "execution_count": 30,
          "metadata": {},
          "output_type": "execute_result"
        }
      ],
      "source": [
        "np.arange(10, 30, 5)"
      ]
    },
    {
      "cell_type": "code",
      "execution_count": null,
      "metadata": {
        "id": "poME5Z9QRwZa",
        "outputId": "202c6c5c-6169-4f8e-955a-1dc8c89ec26b"
      },
      "outputs": [
        {
          "data": {
            "text/plain": [
              "array([0. , 0.3, 0.6, 0.9, 1.2, 1.5, 1.8])"
            ]
          },
          "execution_count": 33,
          "metadata": {},
          "output_type": "execute_result"
        }
      ],
      "source": [
        "# A diferencia de range\n",
        "np.arange(0, 2, 0.3)"
      ]
    },
    {
      "cell_type": "markdown",
      "metadata": {
        "id": "aVQD5VY9RwZa"
      },
      "source": [
        "#### Evaluación de funciones"
      ]
    },
    {
      "cell_type": "code",
      "execution_count": null,
      "metadata": {
        "id": "P9MHOjILRwZa",
        "outputId": "8b9bd012-211d-41e1-98ea-5492fcb9790b"
      },
      "outputs": [
        {
          "data": {
            "text/plain": [
              "array([0.        , 0.33069396, 0.66138793, 0.99208189, 1.32277585,\n",
              "       1.65346982, 1.98416378, 2.31485774, 2.64555171, 2.97624567,\n",
              "       3.30693964, 3.6376336 , 3.96832756, 4.29902153, 4.62971549,\n",
              "       4.96040945, 5.29110342, 5.62179738, 5.95249134, 6.28318531])"
            ]
          },
          "execution_count": 38,
          "metadata": {},
          "output_type": "execute_result"
        }
      ],
      "source": [
        "x = np.linspace(0, 2*np.pi, 20)\n",
        "x"
      ]
    },
    {
      "cell_type": "code",
      "execution_count": null,
      "metadata": {
        "id": "QIaPEOd-RwZa",
        "outputId": "61ad383b-abcb-470a-80b4-2849d8d71ed9"
      },
      "outputs": [
        {
          "data": {
            "text/plain": [
              "array([ 0.00000000e+00,  3.24699469e-01,  6.14212713e-01,  8.37166478e-01,\n",
              "        9.69400266e-01,  9.96584493e-01,  9.15773327e-01,  7.35723911e-01,\n",
              "        4.75947393e-01,  1.64594590e-01, -1.64594590e-01, -4.75947393e-01,\n",
              "       -7.35723911e-01, -9.15773327e-01, -9.96584493e-01, -9.69400266e-01,\n",
              "       -8.37166478e-01, -6.14212713e-01, -3.24699469e-01, -2.44929360e-16])"
            ]
          },
          "execution_count": 40,
          "metadata": {},
          "output_type": "execute_result"
        }
      ],
      "source": [
        "y = np.sin(x)\n",
        "y "
      ]
    },
    {
      "cell_type": "markdown",
      "metadata": {
        "id": "d-ze9_lvRwZa"
      },
      "source": [
        "####  Variables aleatorias\n",
        "\n",
        "- https://numpy.org/doc/stable/reference/random/generator.html#distributions"
      ]
    },
    {
      "cell_type": "code",
      "execution_count": null,
      "metadata": {
        "id": "FUvCikY2RwZb",
        "outputId": "62a9351d-4c0f-4df4-a6db-0b12b6759d62"
      },
      "outputs": [
        {
          "data": {
            "text/plain": [
              "array([[0.72142232, 0.56527412, 0.93729486, 0.73904293, 0.34965775],\n",
              "       [0.40134957, 0.18217965, 0.80949342, 0.31886651, 0.39768961],\n",
              "       [0.86279484, 0.56681793, 0.01699586, 0.19132726, 0.46212958],\n",
              "       [0.63968085, 0.92149101, 0.77778304, 0.20688102, 0.55753814],\n",
              "       [0.32959062, 0.78894458, 0.2437535 , 0.32328002, 0.71022018]])"
            ]
          },
          "execution_count": 5,
          "metadata": {},
          "output_type": "execute_result"
        }
      ],
      "source": [
        "b = np.random.random((5, 5))\n",
        "b"
      ]
    },
    {
      "cell_type": "markdown",
      "metadata": {
        "id": "7tOrQFg_RwZb"
      },
      "source": [
        "#### Unos, ceros"
      ]
    },
    {
      "cell_type": "code",
      "execution_count": null,
      "metadata": {
        "id": "tELEgYV7RwZb",
        "outputId": "6a3f6bea-e804-4346-dcf8-b61bd01324a4"
      },
      "outputs": [
        {
          "data": {
            "text/plain": [
              "array([[0., 0., 0., 0., 0., 0., 0., 0., 0., 0.],\n",
              "       [0., 0., 0., 0., 0., 0., 0., 0., 0., 0.],\n",
              "       [0., 0., 0., 0., 0., 0., 0., 0., 0., 0.],\n",
              "       [0., 0., 0., 0., 0., 0., 0., 0., 0., 0.],\n",
              "       [0., 0., 0., 0., 0., 0., 0., 0., 0., 0.],\n",
              "       [0., 0., 0., 0., 0., 0., 0., 0., 0., 0.],\n",
              "       [0., 0., 0., 0., 0., 0., 0., 0., 0., 0.],\n",
              "       [0., 0., 0., 0., 0., 0., 0., 0., 0., 0.],\n",
              "       [0., 0., 0., 0., 0., 0., 0., 0., 0., 0.],\n",
              "       [0., 0., 0., 0., 0., 0., 0., 0., 0., 0.]])"
            ]
          },
          "execution_count": 41,
          "metadata": {},
          "output_type": "execute_result"
        }
      ],
      "source": [
        "np.zeros([10, 10])"
      ]
    },
    {
      "cell_type": "code",
      "execution_count": null,
      "metadata": {
        "id": "OaDW8IT3RwZb",
        "outputId": "6efcadfa-cc51-4eba-a787-8081d34d8542"
      },
      "outputs": [
        {
          "data": {
            "text/plain": [
              "array([[1., 1., 1., 1., 1.],\n",
              "       [1., 1., 1., 1., 1.],\n",
              "       [1., 1., 1., 1., 1.],\n",
              "       [1., 1., 1., 1., 1.],\n",
              "       [1., 1., 1., 1., 1.]])"
            ]
          },
          "execution_count": 42,
          "metadata": {},
          "output_type": "execute_result"
        }
      ],
      "source": [
        "np.ones([5, 5])"
      ]
    },
    {
      "cell_type": "code",
      "execution_count": null,
      "metadata": {
        "id": "aP_Deal-RwZb",
        "outputId": "6c11296b-2087-42e5-d479-078b8b553c2b"
      },
      "outputs": [
        {
          "data": {
            "text/plain": [
              "array([1., 1., 1., 1., 1., 1., 1., 1., 1., 1., 1., 1., 1., 1., 1., 1., 1.,\n",
              "       1., 1., 1.])"
            ]
          },
          "execution_count": 45,
          "metadata": {},
          "output_type": "execute_result"
        }
      ],
      "source": [
        "# Copiando la forma de x\n",
        "np.ones_like(x)"
      ]
    },
    {
      "cell_type": "code",
      "execution_count": null,
      "metadata": {
        "id": "3iNW3OrFRwZb",
        "outputId": "e4126f44-4e1e-443b-9b99-2ba7d0d15234"
      },
      "outputs": [
        {
          "data": {
            "text/plain": [
              "array([[1., 0., 0., 0., 0.],\n",
              "       [0., 1., 0., 0., 0.],\n",
              "       [0., 0., 1., 0., 0.],\n",
              "       [0., 0., 0., 1., 0.],\n",
              "       [0., 0., 0., 0., 1.]])"
            ]
          },
          "execution_count": 106,
          "metadata": {},
          "output_type": "execute_result"
        }
      ],
      "source": [
        "np.identity(5)"
      ]
    },
    {
      "cell_type": "markdown",
      "metadata": {
        "id": "Jk20oH6JRwZc"
      },
      "source": [
        "### Desde archivos"
      ]
    },
    {
      "cell_type": "code",
      "execution_count": null,
      "metadata": {
        "id": "TPVu660rRwZc",
        "outputId": "36468e30-ee70-4b15-9203-8e1b7ab922c6"
      },
      "outputs": [
        {
          "data": {
            "text/plain": [
              "array([0.99523097, 0.36569092, 0.68340567, 0.75332866, 0.77051288,\n",
              "       0.01431059, 0.59050509, 0.56519456, 0.66747335])"
            ]
          },
          "execution_count": 12,
          "metadata": {},
          "output_type": "execute_result"
        }
      ],
      "source": [
        "data = np.loadtxt(\"data1.txt\", delimiter=',', skiprows=1)\n",
        "data"
      ]
    },
    {
      "cell_type": "markdown",
      "metadata": {
        "id": "6jm2GwjZRwZc"
      },
      "source": [
        "***\n",
        "## Impresión de arreglos\n",
        "\n",
        "Cuando imprimes una matriz, NumPy la muestra de forma similar a las listas anidadas, pero con el siguiente diseño:\n",
        "\n",
        "- el último eje se imprime de izquierda a derecha,\n",
        "\n",
        "- el penúltimo se imprime de arriba a abajo,\n",
        "\n",
        "- el resto también se imprime de arriba a abajo, con cada corte separado del siguiente por una línea vacía.\n",
        "\n",
        "Las matrices unidimensionales se imprimen como filas, bidimensionales como matrices y tridimensionales como listas de matrices."
      ]
    },
    {
      "cell_type": "code",
      "execution_count": null,
      "metadata": {
        "id": "F775YWbiRwZc",
        "outputId": "c55dab91-ac1f-4fdc-a920-7af390d64c3b"
      },
      "outputs": [
        {
          "name": "stdout",
          "output_type": "stream",
          "text": [
            "[0 1 2 3 4 5]\n"
          ]
        }
      ],
      "source": [
        "a = np.arange(6)\n",
        "print(a)"
      ]
    },
    {
      "cell_type": "code",
      "execution_count": null,
      "metadata": {
        "id": "m0EW18F5RwZc",
        "outputId": "f78ee612-7fb9-4c5a-a35b-592e93d04a31"
      },
      "outputs": [
        {
          "name": "stdout",
          "output_type": "stream",
          "text": [
            "[[ 0  1  2]\n",
            " [ 3  4  5]\n",
            " [ 6  7  8]\n",
            " [ 9 10 11]]\n"
          ]
        }
      ],
      "source": [
        "b = np.arange(12).reshape(4,3)\n",
        "print(b)"
      ]
    },
    {
      "cell_type": "code",
      "execution_count": null,
      "metadata": {
        "id": "lkdEHCkCRwZc",
        "outputId": "18f3d72c-90d4-4540-c304-8643bc21cf1b"
      },
      "outputs": [
        {
          "name": "stdout",
          "output_type": "stream",
          "text": [
            "[[[ 0  1  2  3]\n",
            "  [ 4  5  6  7]\n",
            "  [ 8  9 10 11]]\n",
            "\n",
            " [[12 13 14 15]\n",
            "  [16 17 18 19]\n",
            "  [20 21 22 23]]]\n"
          ]
        }
      ],
      "source": [
        "c = np.arange(24).reshape(2,3,4) \n",
        "print(c)"
      ]
    },
    {
      "cell_type": "code",
      "execution_count": null,
      "metadata": {
        "id": "yBE6L_HxRwZc",
        "outputId": "ea55daa8-df0d-4619-d5be-cdfdf856ddf2"
      },
      "outputs": [
        {
          "name": "stdout",
          "output_type": "stream",
          "text": [
            "[   0    1    2 ... 9997 9998 9999]\n"
          ]
        }
      ],
      "source": [
        "# Si es muy grande, se suprime parte de la salida\n",
        "print(np.arange(10000))"
      ]
    },
    {
      "cell_type": "code",
      "execution_count": null,
      "metadata": {
        "id": "kDyowvJLRwZd",
        "outputId": "7daf828b-c29d-4810-e9b4-ec7a7a9d0990"
      },
      "outputs": [
        {
          "name": "stdout",
          "output_type": "stream",
          "text": [
            "[[   0    1    2 ...   97   98   99]\n",
            " [ 100  101  102 ...  197  198  199]\n",
            " [ 200  201  202 ...  297  298  299]\n",
            " ...\n",
            " [9700 9701 9702 ... 9797 9798 9799]\n",
            " [9800 9801 9802 ... 9897 9898 9899]\n",
            " [9900 9901 9902 ... 9997 9998 9999]]\n"
          ]
        }
      ],
      "source": [
        "print(np.arange(10000).reshape(100,100))"
      ]
    },
    {
      "cell_type": "markdown",
      "metadata": {
        "id": "LkFcjhSmRwZd"
      },
      "source": [
        "***\n",
        "## Operaciones básicas\n",
        "\n",
        "Las operaciones básicas son aplicadas elemento a elemento (*elementwise*). Se crea un nuevo arreglo lleno con el resultado"
      ]
    },
    {
      "cell_type": "code",
      "execution_count": null,
      "metadata": {
        "id": "YhhrjTo7RwZd",
        "outputId": "b806f612-fe12-4d48-e1bb-45a00b579fd1"
      },
      "outputs": [
        {
          "data": {
            "text/plain": [
              "(array([20, 30, 40, 50]), array([0, 1, 2, 3]))"
            ]
          },
          "execution_count": 62,
          "metadata": {},
          "output_type": "execute_result"
        }
      ],
      "source": [
        "a = np.array( [20,30,40,50] )\n",
        "b = np.arange(4)\n",
        "a, b"
      ]
    },
    {
      "cell_type": "code",
      "execution_count": null,
      "metadata": {
        "id": "WJck_QHkRwZd",
        "outputId": "447d02ac-d642-4fc9-eefd-130ade077ab1"
      },
      "outputs": [
        {
          "data": {
            "text/plain": [
              "array([20, 29, 38, 47])"
            ]
          },
          "execution_count": 59,
          "metadata": {},
          "output_type": "execute_result"
        }
      ],
      "source": [
        "c = a - b\n",
        "c"
      ]
    },
    {
      "cell_type": "markdown",
      "metadata": {
        "id": "oCYowWgnRwZd"
      },
      "source": [
        "`*` opera en sentido elemento a elemento sobre los arreglos."
      ]
    },
    {
      "cell_type": "code",
      "execution_count": null,
      "metadata": {
        "id": "wpn6WN8MRwZd",
        "outputId": "2ea3624a-1ea1-4797-c04b-791951a37ca5"
      },
      "outputs": [
        {
          "data": {
            "text/plain": [
              "array([ 9.12945251, -9.88031624,  7.4511316 , -2.62374854])"
            ]
          },
          "execution_count": 63,
          "metadata": {},
          "output_type": "execute_result"
        }
      ],
      "source": [
        "# Constante por arreglo\n",
        "10 * np.sin(a)"
      ]
    },
    {
      "cell_type": "code",
      "execution_count": null,
      "metadata": {
        "id": "RiC0HA7qRwZe",
        "outputId": "38103f96-d5e5-4a3a-ebfd-befd16e5e5ae"
      },
      "outputs": [
        {
          "data": {
            "text/plain": [
              "array([ True,  True, False, False])"
            ]
          },
          "execution_count": 66,
          "metadata": {},
          "output_type": "execute_result"
        }
      ],
      "source": [
        "# Arreglos lógicos\n",
        "a < 35"
      ]
    },
    {
      "cell_type": "markdown",
      "metadata": {
        "id": "43s_lE--RwZe"
      },
      "source": [
        "La multiplicación matricial puede hacerse utilizando `@` o el método `dot`"
      ]
    },
    {
      "cell_type": "code",
      "execution_count": null,
      "metadata": {
        "id": "BZII3dRjRwZe"
      },
      "outputs": [],
      "source": [
        "A = np.array( [[1, 1], [0, 1]] )\n",
        "B = np.array( [[2, 0], [3, 4]] )"
      ]
    },
    {
      "cell_type": "code",
      "execution_count": null,
      "metadata": {
        "id": "Hy4dQMOlRwZe",
        "outputId": "c3a247f7-f903-4147-ae92-ff0cff38a43c"
      },
      "outputs": [
        {
          "data": {
            "text/plain": [
              "array([[2, 0],\n",
              "       [0, 4]])"
            ]
          },
          "execution_count": 69,
          "metadata": {},
          "output_type": "execute_result"
        }
      ],
      "source": [
        "A * B"
      ]
    },
    {
      "cell_type": "code",
      "execution_count": null,
      "metadata": {
        "id": "7mtKd029RwZe",
        "outputId": "db7141b8-de6f-4c86-8e92-9f5299862182"
      },
      "outputs": [
        {
          "data": {
            "text/plain": [
              "array([[5, 4],\n",
              "       [3, 4]])"
            ]
          },
          "execution_count": 70,
          "metadata": {},
          "output_type": "execute_result"
        }
      ],
      "source": [
        "A @ B"
      ]
    },
    {
      "cell_type": "code",
      "execution_count": null,
      "metadata": {
        "id": "-AWM0GF6RwZe",
        "outputId": "f9bc02af-7c90-4758-abe4-2f6509f4d7bd"
      },
      "outputs": [
        {
          "data": {
            "text/plain": [
              "array([[5, 4],\n",
              "       [3, 4]])"
            ]
          },
          "execution_count": 72,
          "metadata": {},
          "output_type": "execute_result"
        }
      ],
      "source": [
        "A.dot(B)"
      ]
    },
    {
      "cell_type": "code",
      "execution_count": null,
      "metadata": {
        "scrolled": true,
        "id": "IayUS2RTRwZe",
        "outputId": "4c05bd57-009c-4ceb-adbc-11a609d80a4f"
      },
      "outputs": [
        {
          "data": {
            "text/plain": [
              "array([[5, 4],\n",
              "       [3, 4]])"
            ]
          },
          "execution_count": 71,
          "metadata": {},
          "output_type": "execute_result"
        }
      ],
      "source": [
        "np.matmul(A, B)"
      ]
    },
    {
      "cell_type": "code",
      "execution_count": null,
      "metadata": {
        "id": "nmZiNdpBRwZf",
        "outputId": "993d1a04-8da3-4f77-81ad-e1babdf5e3df"
      },
      "outputs": [
        {
          "data": {
            "text/plain": [
              "array([[0.09859514, 0.2208616 , 0.5853165 ],\n",
              "       [0.38964511, 0.29757204, 0.12178976]])"
            ]
          },
          "execution_count": 74,
          "metadata": {},
          "output_type": "execute_result"
        }
      ],
      "source": [
        "b = np.random.random((2,3))\n",
        "b"
      ]
    },
    {
      "cell_type": "markdown",
      "metadata": {
        "id": "KCRJyMhTRwZi"
      },
      "source": [
        "Operadores `+=` y `*=` son válidos para modificar arreglos existentes."
      ]
    },
    {
      "cell_type": "code",
      "execution_count": null,
      "metadata": {
        "id": "FQ_F4PpfRwZi",
        "outputId": "e494bdfa-de64-4989-dc9b-e759675e3763"
      },
      "outputs": [
        {
          "data": {
            "text/plain": [
              "array([[3, 3, 3],\n",
              "       [3, 3, 3]])"
            ]
          },
          "execution_count": 78,
          "metadata": {},
          "output_type": "execute_result"
        }
      ],
      "source": [
        "a = np.ones((2,3), dtype=int)\n",
        "a *= 3\n",
        "a"
      ]
    },
    {
      "cell_type": "code",
      "execution_count": null,
      "metadata": {
        "id": "G3RdEkzcRwZi",
        "outputId": "8cb7923c-d1c1-46fe-ea29-49af962d6780"
      },
      "outputs": [
        {
          "data": {
            "text/plain": [
              "array([[3.90361504, 3.55425235, 3.33945202],\n",
              "       [3.01908429, 3.39087618, 3.35034525]])"
            ]
          },
          "execution_count": 79,
          "metadata": {},
          "output_type": "execute_result"
        }
      ],
      "source": [
        "b = np.random.random((2,3))\n",
        "b +=a \n",
        "b"
      ]
    },
    {
      "cell_type": "markdown",
      "metadata": {
        "id": "kc0aGawERwZi"
      },
      "source": [
        "### Métodos útiles"
      ]
    },
    {
      "cell_type": "code",
      "execution_count": null,
      "metadata": {
        "id": "Yg-M_ZswRwZi",
        "outputId": "83fca0bc-b5b0-4af6-a3df-e7c0a2ee95b6"
      },
      "outputs": [
        {
          "data": {
            "text/plain": [
              "array([[0.1022778 , 0.93673507, 0.66769084],\n",
              "       [0.59259965, 0.27387856, 0.78026042]])"
            ]
          },
          "execution_count": 82,
          "metadata": {},
          "output_type": "execute_result"
        }
      ],
      "source": [
        "a = np.random.random((2, 3))\n",
        "a"
      ]
    },
    {
      "cell_type": "code",
      "execution_count": null,
      "metadata": {
        "id": "xIsIEGDURwZi",
        "outputId": "7bb87f02-3372-4b07-d376-125e52f2a55c"
      },
      "outputs": [
        {
          "data": {
            "text/plain": [
              "3.3534423304624257"
            ]
          },
          "execution_count": 87,
          "metadata": {},
          "output_type": "execute_result"
        }
      ],
      "source": [
        "a.sum() # equivalente a np.sum(a)"
      ]
    },
    {
      "cell_type": "code",
      "execution_count": null,
      "metadata": {
        "id": "feZQ6XPKRwZj",
        "outputId": "6c0c8c70-44e2-4c18-e585-d08b7bb342db"
      },
      "outputs": [
        {
          "data": {
            "text/plain": [
              "0.1022777965107714"
            ]
          },
          "execution_count": 84,
          "metadata": {},
          "output_type": "execute_result"
        }
      ],
      "source": [
        "a.min()"
      ]
    },
    {
      "cell_type": "code",
      "execution_count": null,
      "metadata": {
        "id": "cnnZidoqRwZj",
        "outputId": "775611c4-cc0d-4904-df55-3c7da588fceb"
      },
      "outputs": [
        {
          "data": {
            "text/plain": [
              "0.9367350710342566"
            ]
          },
          "execution_count": 85,
          "metadata": {},
          "output_type": "execute_result"
        }
      ],
      "source": [
        "a.max()"
      ]
    },
    {
      "cell_type": "markdown",
      "metadata": {
        "id": "9gUUbedsRwZj"
      },
      "source": [
        "Por defecto operan sobre el arreglo como si fueran una lista de números. Es posible especificar el eje sobre el cuál se desea aplicar la operación con el parámetro `axis`"
      ]
    },
    {
      "cell_type": "code",
      "execution_count": null,
      "metadata": {
        "id": "AQCHNsdVRwZj",
        "outputId": "b05a9a8d-98fe-4997-fa4a-5390d79574a3"
      },
      "outputs": [
        {
          "data": {
            "text/plain": [
              "array([[ 0,  1,  2,  3],\n",
              "       [ 4,  5,  6,  7],\n",
              "       [ 8,  9, 10, 11]])"
            ]
          },
          "execution_count": 89,
          "metadata": {},
          "output_type": "execute_result"
        }
      ],
      "source": [
        "b = np.arange(12).reshape(3,4)\n",
        "b"
      ]
    },
    {
      "cell_type": "code",
      "execution_count": null,
      "metadata": {
        "id": "AYsnTXkuRwZj",
        "outputId": "5cdb11ac-0e3e-4a56-e6c3-2faf662cd7e3"
      },
      "outputs": [
        {
          "data": {
            "text/plain": [
              "array([12, 15, 18, 21])"
            ]
          },
          "execution_count": 90,
          "metadata": {},
          "output_type": "execute_result"
        }
      ],
      "source": [
        "# Suma de las columnas \n",
        "b.sum(axis=0)   "
      ]
    },
    {
      "cell_type": "code",
      "execution_count": null,
      "metadata": {
        "id": "5ZuGK99fRwZk",
        "outputId": "776f5c22-e4a1-4dc2-f25b-1a0c1a5e8a8f"
      },
      "outputs": [
        {
          "data": {
            "text/plain": [
              "array([0, 4, 8])"
            ]
          },
          "execution_count": 94,
          "metadata": {},
          "output_type": "execute_result"
        }
      ],
      "source": [
        "# Mínimo de cada fila\n",
        "b.min(axis=1)"
      ]
    },
    {
      "cell_type": "code",
      "execution_count": null,
      "metadata": {
        "id": "aNW5ESoDRwZk",
        "outputId": "d6375c8b-ad56-4414-d2c2-be3f44933aff"
      },
      "outputs": [
        {
          "data": {
            "text/plain": [
              "array([[ 0,  1,  3,  6],\n",
              "       [ 4,  9, 15, 22],\n",
              "       [ 8, 17, 27, 38]], dtype=int32)"
            ]
          },
          "execution_count": 95,
          "metadata": {},
          "output_type": "execute_result"
        }
      ],
      "source": [
        "# Suma acumulada en las columnas \n",
        "b.cumsum(axis=1)"
      ]
    },
    {
      "cell_type": "markdown",
      "metadata": {
        "id": "QxFcPnnFRwZk"
      },
      "source": [
        "***\n",
        "## Funciones universales (*ufuncs*)"
      ]
    },
    {
      "cell_type": "code",
      "execution_count": null,
      "metadata": {
        "id": "GQTCpqLwRwZk",
        "outputId": "ef613bcc-0ce0-4cfc-cd53-4d3797efb00a"
      },
      "outputs": [
        {
          "data": {
            "text/plain": [
              "array([0, 1, 2, 3, 4])"
            ]
          },
          "execution_count": 99,
          "metadata": {},
          "output_type": "execute_result"
        }
      ],
      "source": [
        "a = np.arange(5)\n",
        "a"
      ]
    },
    {
      "cell_type": "code",
      "execution_count": null,
      "metadata": {
        "id": "-BLNv3n2RwZk",
        "outputId": "0e1112f5-bc52-47a4-a32a-31d7abbda89f"
      },
      "outputs": [
        {
          "data": {
            "text/plain": [
              "array([ 1.        ,  2.71828183,  7.3890561 , 20.08553692, 54.59815003])"
            ]
          },
          "execution_count": 100,
          "metadata": {},
          "output_type": "execute_result"
        }
      ],
      "source": [
        "np.exp(a)"
      ]
    },
    {
      "cell_type": "code",
      "execution_count": null,
      "metadata": {
        "id": "do7fDAP9RwZk",
        "outputId": "9295f538-2256-408b-faf5-316959ed7b56"
      },
      "outputs": [
        {
          "data": {
            "text/plain": [
              "array([0.        , 1.        , 1.41421356, 1.73205081, 2.        ])"
            ]
          },
          "execution_count": 101,
          "metadata": {},
          "output_type": "execute_result"
        }
      ],
      "source": [
        "np.sqrt(a)"
      ]
    },
    {
      "cell_type": "markdown",
      "metadata": {
        "id": "pRDUVUfiRwZk"
      },
      "source": [
        "Podemos definir funciones de usuario que sean universales: $$ f(x) = 2x + e^x - \\sqrt{x} $$"
      ]
    },
    {
      "cell_type": "code",
      "execution_count": null,
      "metadata": {
        "id": "WAPInIECRwZk"
      },
      "outputs": [],
      "source": [
        "def f(x):\n",
        "    return 2*x + np.exp(x) - np.sqrt(x)"
      ]
    },
    {
      "cell_type": "code",
      "execution_count": null,
      "metadata": {
        "id": "Fz4Fp44qRwZl",
        "outputId": "8452e6a9-c8cc-448e-a6d0-2ad3aa99b94a"
      },
      "outputs": [
        {
          "data": {
            "text/plain": [
              "array([ 1.        ,  3.71828183,  9.97484254, 24.35348612, 60.59815003])"
            ]
          },
          "execution_count": 104,
          "metadata": {},
          "output_type": "execute_result"
        }
      ],
      "source": [
        "f(a)"
      ]
    },
    {
      "cell_type": "markdown",
      "metadata": {
        "id": "q6EuVbBvRwZl"
      },
      "source": [
        "***\n",
        "## Indexing, Slicing and Iterating\n",
        "\n",
        "Los arreglos unidimensionales se pueden indexar, dividir e iterar, al igual que las listas y otras secuencias de Python."
      ]
    },
    {
      "cell_type": "code",
      "execution_count": null,
      "metadata": {
        "id": "tfrDoakHRwZl",
        "outputId": "f43a888b-52dd-410d-f0bf-c1e867801820"
      },
      "outputs": [
        {
          "data": {
            "text/plain": [
              "array([  0,   1,   8,  27,  64, 125, 216, 343, 512, 729], dtype=int32)"
            ]
          },
          "execution_count": 108,
          "metadata": {},
          "output_type": "execute_result"
        }
      ],
      "source": [
        "a = np.arange(10)**3\n",
        "a"
      ]
    },
    {
      "cell_type": "code",
      "execution_count": null,
      "metadata": {
        "id": "hCsAHYUNRwZl",
        "outputId": "12f1b691-40bd-4ce3-a0e8-41e88145806b"
      },
      "outputs": [
        {
          "data": {
            "text/plain": [
              "8"
            ]
          },
          "execution_count": 109,
          "metadata": {},
          "output_type": "execute_result"
        }
      ],
      "source": [
        "a[2]"
      ]
    },
    {
      "cell_type": "code",
      "execution_count": null,
      "metadata": {
        "id": "Bdk5DfJTRwZl",
        "outputId": "2495704b-dda5-421d-9c3b-4e75155e2002"
      },
      "outputs": [
        {
          "data": {
            "text/plain": [
              "array([ 8, 27, 64], dtype=int32)"
            ]
          },
          "execution_count": 110,
          "metadata": {},
          "output_type": "execute_result"
        }
      ],
      "source": [
        "a[2:5]"
      ]
    },
    {
      "cell_type": "code",
      "execution_count": null,
      "metadata": {
        "id": "ofXgBEQARwZl",
        "outputId": "f58e1103-acd8-4ebd-9aed-68cb98ca8539"
      },
      "outputs": [
        {
          "data": {
            "text/plain": [
              "array([-1000,     1, -1000,    27, -1000,   125,   216,   343,   512,\n",
              "         729], dtype=int32)"
            ]
          },
          "execution_count": 119,
          "metadata": {},
          "output_type": "execute_result"
        }
      ],
      "source": [
        "# Asignación múltiple\n",
        "a[0:6:2] = -1000\n",
        "a"
      ]
    },
    {
      "cell_type": "code",
      "execution_count": null,
      "metadata": {
        "id": "cSwz1s0YRwZl",
        "outputId": "6c5a9f2e-cc7c-48d6-cf4a-b4385223b291"
      },
      "outputs": [
        {
          "name": "stdout",
          "output_type": "stream",
          "text": [
            "nan\n",
            "1.0\n",
            "nan\n",
            "3.0\n",
            "nan\n",
            "5.0\n",
            "5.999999999999999\n",
            "6.999999999999999\n",
            "7.999999999999999\n",
            "8.999999999999998\n"
          ]
        },
        {
          "name": "stderr",
          "output_type": "stream",
          "text": [
            "C:\\Users\\RRCP\\AppData\\Local\\Continuum\\anaconda3\\lib\\site-packages\\ipykernel_launcher.py:2: RuntimeWarning: invalid value encountered in power\n",
            "  \n"
          ]
        }
      ],
      "source": [
        "for i in a:\n",
        "    print(i**(1/3.))"
      ]
    },
    {
      "cell_type": "code",
      "execution_count": null,
      "metadata": {
        "id": "LU9ibzunRwZm"
      },
      "outputs": [],
      "source": [
        "def f(x,y):\n",
        "    return 10*x + y"
      ]
    },
    {
      "cell_type": "code",
      "execution_count": null,
      "metadata": {
        "id": "u-8MRWwURwZm",
        "outputId": "b597148f-80c4-4520-9150-7b9d530cd9db"
      },
      "outputs": [
        {
          "data": {
            "text/plain": [
              "array([[ 0,  1,  2,  3],\n",
              "       [10, 11, 12, 13],\n",
              "       [20, 21, 22, 23],\n",
              "       [30, 31, 32, 33],\n",
              "       [40, 41, 42, 43]])"
            ]
          },
          "execution_count": 128,
          "metadata": {},
          "output_type": "execute_result"
        }
      ],
      "source": [
        "b = np.fromfunction(f, (5,4), dtype=int)\n",
        "b"
      ]
    },
    {
      "cell_type": "code",
      "execution_count": null,
      "metadata": {
        "id": "Yq48-Vk9RwZm",
        "outputId": "fb936ba4-d34b-4bf6-cc5b-c86471d25c4f"
      },
      "outputs": [
        {
          "data": {
            "text/plain": [
              "23"
            ]
          },
          "execution_count": 129,
          "metadata": {},
          "output_type": "execute_result"
        }
      ],
      "source": [
        "b[2, 3]"
      ]
    },
    {
      "cell_type": "code",
      "execution_count": null,
      "metadata": {
        "id": "Z7cSMVSPRwZm",
        "outputId": "08454272-589f-43bd-f5e8-2e52aaae05fd"
      },
      "outputs": [
        {
          "data": {
            "text/plain": [
              "array([ 1, 11, 21, 31, 41])"
            ]
          },
          "execution_count": 130,
          "metadata": {},
          "output_type": "execute_result"
        }
      ],
      "source": [
        "b[0:5, 1]"
      ]
    },
    {
      "cell_type": "code",
      "execution_count": null,
      "metadata": {
        "id": "HTooxCUpRwZm",
        "outputId": "f94d6309-a50d-48e0-e705-f863b5b201bd"
      },
      "outputs": [
        {
          "data": {
            "text/plain": [
              "array([ 1, 11, 21, 31, 41])"
            ]
          },
          "execution_count": 131,
          "metadata": {},
          "output_type": "execute_result"
        }
      ],
      "source": [
        "b[:, 1]"
      ]
    },
    {
      "cell_type": "markdown",
      "metadata": {
        "id": "9Tsc0JL3RwZm"
      },
      "source": [
        "Cuando se proporcionan menos índices que el número de ejes, los índices faltantes se consideran segmentos completos `:`"
      ]
    },
    {
      "cell_type": "code",
      "execution_count": null,
      "metadata": {
        "id": "j2VM5z3TRwZm",
        "outputId": "16015215-009a-4148-b119-a7099829f8fd"
      },
      "outputs": [
        {
          "data": {
            "text/plain": [
              "array([40, 41, 42, 43])"
            ]
          },
          "execution_count": 135,
          "metadata": {},
          "output_type": "execute_result"
        }
      ],
      "source": [
        "# Ultima fila, todas las columnas\n",
        "b[-1]"
      ]
    },
    {
      "cell_type": "code",
      "execution_count": null,
      "metadata": {
        "id": "-BO_BkNtRwZm",
        "outputId": "035968a8-1983-45e9-e6b2-69a837a9f146"
      },
      "outputs": [
        {
          "data": {
            "text/plain": [
              "array([[[[[1.],\n",
              "          [1.]],\n",
              "\n",
              "         [[1.],\n",
              "          [1.]],\n",
              "\n",
              "         [[1.],\n",
              "          [1.]]],\n",
              "\n",
              "\n",
              "        [[[1.],\n",
              "          [1.]],\n",
              "\n",
              "         [[1.],\n",
              "          [1.]],\n",
              "\n",
              "         [[1.],\n",
              "          [1.]]],\n",
              "\n",
              "\n",
              "        [[[1.],\n",
              "          [1.]],\n",
              "\n",
              "         [[1.],\n",
              "          [1.]],\n",
              "\n",
              "         [[1.],\n",
              "          [1.]]],\n",
              "\n",
              "\n",
              "        [[[1.],\n",
              "          [1.]],\n",
              "\n",
              "         [[1.],\n",
              "          [1.]],\n",
              "\n",
              "         [[1.],\n",
              "          [1.]]]],\n",
              "\n",
              "\n",
              "\n",
              "       [[[[1.],\n",
              "          [1.]],\n",
              "\n",
              "         [[1.],\n",
              "          [1.]],\n",
              "\n",
              "         [[1.],\n",
              "          [1.]]],\n",
              "\n",
              "\n",
              "        [[[1.],\n",
              "          [1.]],\n",
              "\n",
              "         [[1.],\n",
              "          [1.]],\n",
              "\n",
              "         [[1.],\n",
              "          [1.]]],\n",
              "\n",
              "\n",
              "        [[[1.],\n",
              "          [1.]],\n",
              "\n",
              "         [[1.],\n",
              "          [1.]],\n",
              "\n",
              "         [[1.],\n",
              "          [1.]]],\n",
              "\n",
              "\n",
              "        [[[1.],\n",
              "          [1.]],\n",
              "\n",
              "         [[1.],\n",
              "          [1.]],\n",
              "\n",
              "         [[1.],\n",
              "          [1.]]]],\n",
              "\n",
              "\n",
              "\n",
              "       [[[[1.],\n",
              "          [1.]],\n",
              "\n",
              "         [[1.],\n",
              "          [1.]],\n",
              "\n",
              "         [[1.],\n",
              "          [1.]]],\n",
              "\n",
              "\n",
              "        [[[1.],\n",
              "          [1.]],\n",
              "\n",
              "         [[1.],\n",
              "          [1.]],\n",
              "\n",
              "         [[1.],\n",
              "          [1.]]],\n",
              "\n",
              "\n",
              "        [[[1.],\n",
              "          [1.]],\n",
              "\n",
              "         [[1.],\n",
              "          [1.]],\n",
              "\n",
              "         [[1.],\n",
              "          [1.]]],\n",
              "\n",
              "\n",
              "        [[[1.],\n",
              "          [1.]],\n",
              "\n",
              "         [[1.],\n",
              "          [1.]],\n",
              "\n",
              "         [[1.],\n",
              "          [1.]]]],\n",
              "\n",
              "\n",
              "\n",
              "       [[[[1.],\n",
              "          [1.]],\n",
              "\n",
              "         [[1.],\n",
              "          [1.]],\n",
              "\n",
              "         [[1.],\n",
              "          [1.]]],\n",
              "\n",
              "\n",
              "        [[[1.],\n",
              "          [1.]],\n",
              "\n",
              "         [[1.],\n",
              "          [1.]],\n",
              "\n",
              "         [[1.],\n",
              "          [1.]]],\n",
              "\n",
              "\n",
              "        [[[1.],\n",
              "          [1.]],\n",
              "\n",
              "         [[1.],\n",
              "          [1.]],\n",
              "\n",
              "         [[1.],\n",
              "          [1.]]],\n",
              "\n",
              "\n",
              "        [[[1.],\n",
              "          [1.]],\n",
              "\n",
              "         [[1.],\n",
              "          [1.]],\n",
              "\n",
              "         [[1.],\n",
              "          [1.]]]],\n",
              "\n",
              "\n",
              "\n",
              "       [[[[1.],\n",
              "          [1.]],\n",
              "\n",
              "         [[1.],\n",
              "          [1.]],\n",
              "\n",
              "         [[1.],\n",
              "          [1.]]],\n",
              "\n",
              "\n",
              "        [[[1.],\n",
              "          [1.]],\n",
              "\n",
              "         [[1.],\n",
              "          [1.]],\n",
              "\n",
              "         [[1.],\n",
              "          [1.]]],\n",
              "\n",
              "\n",
              "        [[[1.],\n",
              "          [1.]],\n",
              "\n",
              "         [[1.],\n",
              "          [1.]],\n",
              "\n",
              "         [[1.],\n",
              "          [1.]]],\n",
              "\n",
              "\n",
              "        [[[1.],\n",
              "          [1.]],\n",
              "\n",
              "         [[1.],\n",
              "          [1.]],\n",
              "\n",
              "         [[1.],\n",
              "          [1.]]]]])"
            ]
          },
          "execution_count": 137,
          "metadata": {},
          "output_type": "execute_result"
        }
      ],
      "source": [
        "np.ones((5,4,3,2,1))"
      ]
    },
    {
      "cell_type": "markdown",
      "metadata": {
        "id": "NHOFeSPQRwZn"
      },
      "source": [
        "La iteración sobre matrices multidimensionales se realiza con respecto al primer eje"
      ]
    },
    {
      "cell_type": "code",
      "execution_count": null,
      "metadata": {
        "id": "LrQ2YzwCRwZn",
        "outputId": "43beb398-b3ba-4021-913f-863cc5ecd6d3"
      },
      "outputs": [
        {
          "name": "stdout",
          "output_type": "stream",
          "text": [
            "[0 1 2 3]\n",
            "[10 11 12 13]\n",
            "[20 21 22 23]\n",
            "[30 31 32 33]\n",
            "[40 41 42 43]\n"
          ]
        }
      ],
      "source": [
        "for row in b:\n",
        "    print(row)"
      ]
    },
    {
      "cell_type": "markdown",
      "metadata": {
        "id": "heUw6I1ORwZn"
      },
      "source": [
        "Sin embargo, si se desea realizar una operación en cada elemento de la matriz, se puede usar el atributo `flat` que es un iterador sobre todos los elementos de la matriz:"
      ]
    },
    {
      "cell_type": "code",
      "execution_count": null,
      "metadata": {
        "id": "yAK93QkURwZn",
        "outputId": "ed3a1bae-3171-4c87-a2fb-ad06703854d6"
      },
      "outputs": [
        {
          "name": "stdout",
          "output_type": "stream",
          "text": [
            "0\n",
            "1\n",
            "2\n",
            "3\n",
            "10\n",
            "11\n",
            "12\n",
            "13\n",
            "20\n",
            "21\n",
            "22\n",
            "23\n",
            "30\n",
            "31\n",
            "32\n",
            "33\n",
            "40\n",
            "41\n",
            "42\n",
            "43\n"
          ]
        }
      ],
      "source": [
        "for element in b.flat:\n",
        "    print(element)"
      ]
    },
    {
      "cell_type": "code",
      "execution_count": null,
      "metadata": {
        "id": "YG-sDnTvRwZn",
        "outputId": "14ae739e-e1af-4363-ee9c-d3550118cd89"
      },
      "outputs": [
        {
          "data": {
            "text/plain": [
              "array([ 0,  1,  2,  3, 10, 11, 12, 13, 20, 21, 22, 23, 30, 31, 32, 33, 40,\n",
              "       41, 42, 43])"
            ]
          },
          "execution_count": 142,
          "metadata": {},
          "output_type": "execute_result"
        }
      ],
      "source": [
        "b.flatten()"
      ]
    },
    {
      "cell_type": "markdown",
      "metadata": {
        "id": "JxWhSxlhRwZn"
      },
      "source": [
        "***\n",
        "## Manipulación del `shape` (forma) del arreglo\n",
        "\n",
        "Una matriz tiene una forma dada por el número de elementos a lo largo de cada eje:"
      ]
    },
    {
      "cell_type": "code",
      "execution_count": null,
      "metadata": {
        "id": "i14HbU_sRwZn",
        "outputId": "55038476-6ca7-4afb-894a-e552b2efa52c"
      },
      "outputs": [
        {
          "data": {
            "text/plain": [
              "array([[1., 0., 1., 5.],\n",
              "       [0., 8., 4., 9.],\n",
              "       [7., 6., 9., 4.]])"
            ]
          },
          "execution_count": 145,
          "metadata": {},
          "output_type": "execute_result"
        }
      ],
      "source": [
        "a = np.floor ( 10 * np.random.random (( 3 , 4 )))\n",
        "a"
      ]
    },
    {
      "cell_type": "code",
      "execution_count": null,
      "metadata": {
        "id": "AlfogpZDRwZn",
        "outputId": "7fd810b6-5e94-4a5f-9a9f-a9fbcc2cdebf"
      },
      "outputs": [
        {
          "data": {
            "text/plain": [
              "(3, 4)"
            ]
          },
          "execution_count": 147,
          "metadata": {},
          "output_type": "execute_result"
        }
      ],
      "source": [
        "a.shape"
      ]
    },
    {
      "cell_type": "markdown",
      "metadata": {
        "id": "A8y29ugLRwZn"
      },
      "source": [
        "La forma de una matriz se puede cambiar con varios comandos. Tenga en cuenta que los siguientes tres comandos devuelven una matriz modificada, pero **no cambian la matriz original**:"
      ]
    },
    {
      "cell_type": "code",
      "execution_count": null,
      "metadata": {
        "id": "yZtTcfLJRwZo",
        "outputId": "30f7c46d-9ea1-4331-c40f-e998b7c9db35"
      },
      "outputs": [
        {
          "data": {
            "text/plain": [
              "array([1., 0., 1., 5., 0., 8., 4., 9., 7., 6., 9., 4.])"
            ]
          },
          "execution_count": 148,
          "metadata": {},
          "output_type": "execute_result"
        }
      ],
      "source": [
        "a.ravel()  # returns the array, flattened"
      ]
    },
    {
      "cell_type": "code",
      "execution_count": null,
      "metadata": {
        "id": "XSjFMDWkRwZo",
        "outputId": "3956ee5a-2694-484b-ec1d-b4b7e84c2f17"
      },
      "outputs": [
        {
          "data": {
            "text/plain": [
              "array([1., 0., 1., 5., 0., 8., 4., 9., 7., 6., 9., 4.])"
            ]
          },
          "execution_count": 152,
          "metadata": {},
          "output_type": "execute_result"
        }
      ],
      "source": [
        "a.flatten()"
      ]
    },
    {
      "cell_type": "code",
      "execution_count": null,
      "metadata": {
        "id": "HAWgaW1nRwZo",
        "outputId": "0a304dd2-2ef4-4afd-9259-722468b8bd4b"
      },
      "outputs": [
        {
          "data": {
            "text/plain": [
              "array([[1., 0.],\n",
              "       [1., 5.],\n",
              "       [0., 8.],\n",
              "       [4., 9.],\n",
              "       [7., 6.],\n",
              "       [9., 4.]])"
            ]
          },
          "execution_count": 149,
          "metadata": {},
          "output_type": "execute_result"
        }
      ],
      "source": [
        "a.reshape(6,2)  # returns the array with a modified shape"
      ]
    },
    {
      "cell_type": "code",
      "execution_count": null,
      "metadata": {
        "id": "tBwz2H8LRwZo",
        "outputId": "af1aa44a-1bcd-4b26-ca68-cec66cc6b739"
      },
      "outputs": [
        {
          "data": {
            "text/plain": [
              "array([[1., 0., 7.],\n",
              "       [0., 8., 6.],\n",
              "       [1., 4., 9.],\n",
              "       [5., 9., 4.]])"
            ]
          },
          "execution_count": 150,
          "metadata": {},
          "output_type": "execute_result"
        }
      ],
      "source": [
        "a.T"
      ]
    },
    {
      "cell_type": "code",
      "execution_count": null,
      "metadata": {
        "id": "tYAus88vRwZo",
        "outputId": "166711c5-2805-4517-b597-103b88b23f40"
      },
      "outputs": [
        {
          "data": {
            "text/plain": [
              "(4, 3)"
            ]
          },
          "execution_count": 151,
          "metadata": {},
          "output_type": "execute_result"
        }
      ],
      "source": [
        "a.T.shape"
      ]
    },
    {
      "cell_type": "markdown",
      "metadata": {
        "id": "NsblbdZpRwZo"
      },
      "source": [
        "- El orden de los elementos en la matriz resultante de `ravel()` es normalmente \"estilo `C`\", es decir, el índice de la derecha \"cambia más rápido\", por lo que el elemento después de un `[0,0]` es un `[0,1]`. \n",
        "\n",
        "- Si la matriz se reforma a otra forma, nuevamente la matriz se trata como \"estilo `C`\". NumPy normalmente crea matrices almacenadas en este orden, por lo que `ravel()` generalmente no necesitará copiar su argumento, pero si la matriz se hizo tomando segmentos de otra matriz o se creó con opciones inusuales, es posible que deba copiarse. \n",
        "\n",
        "- Las funciones `ravel()` y `reshape()` también se pueden instruir, utilizando un argumento opcional, para usar matrices de estilo FORTRAN, en las que el índice más a la izquierda cambia más rápido."
      ]
    },
    {
      "cell_type": "markdown",
      "metadata": {
        "id": "XvgpMDSURwZp"
      },
      "source": [
        "La función de `reshape` devuelve su argumento con una forma modificada, mientras que el método `ndarray.resize` modifica la matriz en sí:"
      ]
    },
    {
      "cell_type": "code",
      "execution_count": null,
      "metadata": {
        "id": "lkQ3pcK5RwZp",
        "outputId": "8f9a0a32-1ca4-4f23-f22d-7ac024ed20e6"
      },
      "outputs": [
        {
          "data": {
            "text/plain": [
              "array([[1., 0., 1., 5.],\n",
              "       [0., 8., 4., 9.],\n",
              "       [7., 6., 9., 4.]])"
            ]
          },
          "execution_count": 153,
          "metadata": {},
          "output_type": "execute_result"
        }
      ],
      "source": [
        "a"
      ]
    },
    {
      "cell_type": "code",
      "execution_count": null,
      "metadata": {
        "id": "S19GS2yVRwZp",
        "outputId": "a7d7ea3b-24a3-4b94-bfbb-eba17fff49c6"
      },
      "outputs": [
        {
          "data": {
            "text/plain": [
              "array([[1., 0., 1., 5., 0., 8.],\n",
              "       [4., 9., 7., 6., 9., 4.]])"
            ]
          },
          "execution_count": 157,
          "metadata": {},
          "output_type": "execute_result"
        }
      ],
      "source": [
        "a.resize((2, 6))\n",
        "a"
      ]
    },
    {
      "cell_type": "code",
      "execution_count": null,
      "metadata": {
        "id": "vh3Dc0jzRwZp",
        "outputId": "34238e4c-82de-4ebb-bcc7-db45fb52d6a6"
      },
      "outputs": [
        {
          "data": {
            "text/plain": [
              "array([[1., 0., 1., 5., 0., 8.],\n",
              "       [4., 9., 7., 6., 9., 4.]])"
            ]
          },
          "execution_count": 156,
          "metadata": {},
          "output_type": "execute_result"
        }
      ],
      "source": [
        ""
      ]
    },
    {
      "cell_type": "markdown",
      "metadata": {
        "id": "JPJp3oXBRwZp"
      },
      "source": [
        "***\n",
        "## Apilando los arreglos \n",
        "Se pueden apilar varios arreglos a lo largo de diferentes ejes:"
      ]
    },
    {
      "cell_type": "code",
      "execution_count": null,
      "metadata": {
        "id": "CXbJk3BXRwZp",
        "outputId": "6709ae63-084d-44e4-9ca1-d591e233fbaf"
      },
      "outputs": [
        {
          "data": {
            "text/plain": [
              "array([[0., 1.],\n",
              "       [3., 7.]])"
            ]
          },
          "execution_count": 158,
          "metadata": {},
          "output_type": "execute_result"
        }
      ],
      "source": [
        "a = np.floor(10*np.random.random((2,2)))\n",
        "a"
      ]
    },
    {
      "cell_type": "code",
      "execution_count": null,
      "metadata": {
        "id": "6JFI2VpQRwZp",
        "outputId": "a4e578e1-66b1-4214-aab0-94ecb6a1093a"
      },
      "outputs": [
        {
          "data": {
            "text/plain": [
              "array([[2., 2.],\n",
              "       [6., 7.]])"
            ]
          },
          "execution_count": 160,
          "metadata": {},
          "output_type": "execute_result"
        }
      ],
      "source": [
        "b = np.floor(10*np.random.random((2,2)))\n",
        "b"
      ]
    },
    {
      "cell_type": "code",
      "execution_count": null,
      "metadata": {
        "id": "WQ90QFI8RwZp",
        "outputId": "85c6a539-08b0-49b6-ddfc-2156db1d0ba2"
      },
      "outputs": [
        {
          "data": {
            "text/plain": [
              "array([[0., 1.],\n",
              "       [3., 7.],\n",
              "       [2., 2.],\n",
              "       [6., 7.]])"
            ]
          },
          "execution_count": 161,
          "metadata": {},
          "output_type": "execute_result"
        }
      ],
      "source": [
        "# np.vstack pide una tupla de ndarrays \n",
        "np.vstack((a,b))"
      ]
    },
    {
      "cell_type": "code",
      "execution_count": null,
      "metadata": {
        "id": "XbTJ_d_zRwZq",
        "outputId": "d25ecdc5-cc84-4bff-8364-b8e51cd28a58"
      },
      "outputs": [
        {
          "data": {
            "text/plain": [
              "array([[0., 1., 2., 2.],\n",
              "       [3., 7., 6., 7.]])"
            ]
          },
          "execution_count": 163,
          "metadata": {},
          "output_type": "execute_result"
        }
      ],
      "source": [
        "# np.hstack pide una tupla de ndarrays \n",
        "np.hstack((a,b))"
      ]
    },
    {
      "cell_type": "code",
      "execution_count": null,
      "metadata": {
        "id": "hNudr-OFRwZq",
        "outputId": "b2539856-3e30-4084-bf30-6800d665962a"
      },
      "outputs": [
        {
          "data": {
            "text/plain": [
              "array([[0., 1., 2., 2.],\n",
              "       [3., 7., 6., 7.]])"
            ]
          },
          "execution_count": 165,
          "metadata": {},
          "output_type": "execute_result"
        }
      ],
      "source": [
        "np.column_stack((a,b)) # Equivalente a np.hstack para arreglos 2D"
      ]
    },
    {
      "cell_type": "code",
      "execution_count": null,
      "metadata": {
        "id": "PKZSa3wWRwZq",
        "outputId": "a49337dd-05ec-42bb-a386-9e408726734d"
      },
      "outputs": [
        {
          "data": {
            "text/plain": [
              "array([[0., 1., 2., 2.],\n",
              "       [3., 7., 6., 7.]])"
            ]
          },
          "execution_count": 166,
          "metadata": {},
          "output_type": "execute_result"
        }
      ],
      "source": [
        "np.hstack((a,b)) "
      ]
    },
    {
      "cell_type": "markdown",
      "metadata": {
        "id": "S7p5QEuoRwZq"
      },
      "source": [
        "- Cuando los arreglos son 1D, `np.column_stack()` y `np.hstack()` se comportan diferente"
      ]
    },
    {
      "cell_type": "code",
      "execution_count": null,
      "metadata": {
        "id": "9jklatL0RwZq"
      },
      "outputs": [],
      "source": [
        "a = np.array([4.,2.])\n",
        "b = np.array([3.,8.])"
      ]
    },
    {
      "cell_type": "code",
      "execution_count": null,
      "metadata": {
        "id": "hAVDmCx6RwZq",
        "outputId": "42198d4b-71b4-4c6c-a18e-a7f7852be749"
      },
      "outputs": [
        {
          "data": {
            "text/plain": [
              "array([[4., 3.],\n",
              "       [2., 8.]])"
            ]
          },
          "execution_count": 170,
          "metadata": {},
          "output_type": "execute_result"
        }
      ],
      "source": [
        "np.column_stack((a,b))"
      ]
    },
    {
      "cell_type": "code",
      "execution_count": null,
      "metadata": {
        "id": "_hD52NqkRwZq",
        "outputId": "3e52e7c4-ef42-406f-c5d2-8ed07409d017"
      },
      "outputs": [
        {
          "data": {
            "text/plain": [
              "array([4., 2., 3., 8.])"
            ]
          },
          "execution_count": 171,
          "metadata": {},
          "output_type": "execute_result"
        }
      ],
      "source": [
        "np.hstack((a,b)) "
      ]
    },
    {
      "cell_type": "markdown",
      "metadata": {
        "id": "2GXNb9l-RwZq"
      },
      "source": [
        "- Podemos crear nuevas dimensiones en el arreglo con `np.newaxis` o con `None`"
      ]
    },
    {
      "cell_type": "code",
      "execution_count": null,
      "metadata": {
        "id": "cz_l85rQRwZr",
        "outputId": "b4f0b459-d01c-4579-b401-cbc0c61241a0"
      },
      "outputs": [
        {
          "data": {
            "text/plain": [
              "array([[4.],\n",
              "       [2.]])"
            ]
          },
          "execution_count": 173,
          "metadata": {},
          "output_type": "execute_result"
        }
      ],
      "source": [
        "a[:, np.newaxis]"
      ]
    },
    {
      "cell_type": "code",
      "execution_count": null,
      "metadata": {
        "id": "V-gA5mmrRwZr",
        "outputId": "cb47bae7-db3b-4eed-80bf-57d4117b8db8"
      },
      "outputs": [
        {
          "data": {
            "text/plain": [
              "array([[4.],\n",
              "       [2.]])"
            ]
          },
          "execution_count": 177,
          "metadata": {},
          "output_type": "execute_result"
        }
      ],
      "source": [
        "a[:, None]"
      ]
    },
    {
      "cell_type": "code",
      "execution_count": null,
      "metadata": {
        "id": "ilIqY-cmRwZr",
        "outputId": "430d548a-761e-4e3d-f3f5-b18a3fcf1a4a"
      },
      "outputs": [
        {
          "data": {
            "text/plain": [
              "array([[4., 3.],\n",
              "       [2., 8.]])"
            ]
          },
          "execution_count": 176,
          "metadata": {},
          "output_type": "execute_result"
        }
      ],
      "source": [
        "np.column_stack((a[:, np.newaxis], b[:, np.newaxis]))"
      ]
    },
    {
      "cell_type": "markdown",
      "metadata": {
        "id": "oBUpHEZgRwZr"
      },
      "source": [
        "- Por otro lado, la función `row_stack` es equivalente a `vstack` para cualquier arreglo de entrada. De hecho, `row_stack` es un alias para `vstack`"
      ]
    },
    {
      "cell_type": "code",
      "execution_count": null,
      "metadata": {
        "id": "sGemk4ubRwZr",
        "outputId": "3c769328-7fb9-4d87-f175-c285461a322d"
      },
      "outputs": [
        {
          "data": {
            "text/plain": [
              "True"
            ]
          },
          "execution_count": 178,
          "metadata": {},
          "output_type": "execute_result"
        }
      ],
      "source": [
        "np.row_stack is np.vstack"
      ]
    },
    {
      "cell_type": "markdown",
      "metadata": {
        "id": "vfBraJuyRwZr"
      },
      "source": [
        "- En general, para arreglos con más de dos dimensiones:\n",
        "    \n",
        "    - `hstack` apila a lo largo del segundo eje, \n",
        "    \n",
        "    - `vstack` apila a lo largo del primer eje y \n",
        "    \n",
        "    - `concatenate` permite argumentos opcionales que dan el número del eje (`axis`) a lo largo del cual debe ocurrir la concatenación."
      ]
    },
    {
      "cell_type": "markdown",
      "metadata": {
        "id": "8aogWgH5RwZr"
      },
      "source": [
        "***\n",
        "## Separar un arreglo en varios más pequeños"
      ]
    },
    {
      "cell_type": "code",
      "execution_count": null,
      "metadata": {
        "id": "5bLfYBykRwZr",
        "outputId": "bacdd204-9dcf-4fd4-f8f8-c7b48884dab5"
      },
      "outputs": [
        {
          "data": {
            "text/plain": [
              "array([[4., 5., 5., 4., 8., 8., 8., 5., 7., 9., 5., 5.],\n",
              "       [9., 9., 8., 8., 5., 5., 1., 6., 1., 2., 3., 8.]])"
            ]
          },
          "execution_count": 179,
          "metadata": {},
          "output_type": "execute_result"
        }
      ],
      "source": [
        "a = np.floor(10*np.random.random((2,12)))\n",
        "a"
      ]
    },
    {
      "cell_type": "code",
      "execution_count": null,
      "metadata": {
        "id": "vpLAdRuDRwZs",
        "outputId": "e8bf4d65-0970-498b-fea9-bd3c44005e06"
      },
      "outputs": [
        {
          "data": {
            "text/plain": [
              "[array([[4., 5., 5., 4.],\n",
              "        [9., 9., 8., 8.]]), array([[8., 8., 8., 5.],\n",
              "        [5., 5., 1., 6.]]), array([[7., 9., 5., 5.],\n",
              "        [1., 2., 3., 8.]])]"
            ]
          },
          "execution_count": 180,
          "metadata": {},
          "output_type": "execute_result"
        }
      ],
      "source": [
        "np.hsplit(a,3)   # Split a into 3"
      ]
    },
    {
      "cell_type": "code",
      "execution_count": null,
      "metadata": {
        "id": "X5ACho1wRwZs",
        "outputId": "3723c46c-1f8e-4a57-96ef-c7a031d64bbb"
      },
      "outputs": [
        {
          "data": {
            "text/plain": [
              "[array([[4., 5., 5.],\n",
              "        [9., 9., 8.]]), array([[4.],\n",
              "        [8.]]), array([[8., 8., 8., 5., 7., 9., 5., 5.],\n",
              "        [5., 5., 1., 6., 1., 2., 3., 8.]])]"
            ]
          },
          "execution_count": 181,
          "metadata": {},
          "output_type": "execute_result"
        }
      ],
      "source": [
        "np.hsplit(a, (3,4))   # Split a after the third and the fourth column"
      ]
    },
    {
      "cell_type": "code",
      "execution_count": null,
      "metadata": {
        "scrolled": true,
        "id": "d8oyftt1RwZs",
        "outputId": "e538e07a-b513-474f-e3c5-d120e49b3988"
      },
      "outputs": [
        {
          "name": "stdout",
          "output_type": "stream",
          "text": [
            "Help on function hsplit in module numpy:\n",
            "\n",
            "hsplit(ary, indices_or_sections)\n",
            "    Split an array into multiple sub-arrays horizontally (column-wise).\n",
            "    \n",
            "    Please refer to the `split` documentation.  `hsplit` is equivalent\n",
            "    to `split` with ``axis=1``, the array is always split along the second\n",
            "    axis regardless of the array dimension.\n",
            "    \n",
            "    See Also\n",
            "    --------\n",
            "    split : Split an array into multiple sub-arrays of equal size.\n",
            "    \n",
            "    Examples\n",
            "    --------\n",
            "    >>> x = np.arange(16.0).reshape(4, 4)\n",
            "    >>> x\n",
            "    array([[  0.,   1.,   2.,   3.],\n",
            "           [  4.,   5.,   6.,   7.],\n",
            "           [  8.,   9.,  10.,  11.],\n",
            "           [ 12.,  13.,  14.,  15.]])\n",
            "    >>> np.hsplit(x, 2)\n",
            "    [array([[  0.,   1.],\n",
            "           [  4.,   5.],\n",
            "           [  8.,   9.],\n",
            "           [ 12.,  13.]]),\n",
            "     array([[  2.,   3.],\n",
            "           [  6.,   7.],\n",
            "           [ 10.,  11.],\n",
            "           [ 14.,  15.]])]\n",
            "    >>> np.hsplit(x, np.array([3, 6]))\n",
            "    [array([[  0.,   1.,   2.],\n",
            "           [  4.,   5.,   6.],\n",
            "           [  8.,   9.,  10.],\n",
            "           [ 12.,  13.,  14.]]),\n",
            "     array([[  3.],\n",
            "           [  7.],\n",
            "           [ 11.],\n",
            "           [ 15.]]),\n",
            "     array([], dtype=float64)]\n",
            "    \n",
            "    With a higher dimensional array the split is still along the second axis.\n",
            "    \n",
            "    >>> x = np.arange(8.0).reshape(2, 2, 2)\n",
            "    >>> x\n",
            "    array([[[ 0.,  1.],\n",
            "            [ 2.,  3.]],\n",
            "           [[ 4.,  5.],\n",
            "            [ 6.,  7.]]])\n",
            "    >>> np.hsplit(x, 2)\n",
            "    [array([[[ 0.,  1.]],\n",
            "           [[ 4.,  5.]]]),\n",
            "     array([[[ 2.,  3.]],\n",
            "           [[ 6.,  7.]]])]\n",
            "\n"
          ]
        }
      ],
      "source": [
        "help(np.hsplit)"
      ]
    },
    {
      "cell_type": "markdown",
      "metadata": {
        "id": "ytAA_aRjRwZs"
      },
      "source": [
        "***\n",
        "## Mutabilidad y clonado\n",
        "\n",
        "Al operar y manipular arreglos, los datos a veces se copian en un nuevo arreglo y otras no. Esto es a menudo una fuente de confusión para los principiantes. Hay tres casos:"
      ]
    },
    {
      "cell_type": "code",
      "execution_count": null,
      "metadata": {
        "id": "vmUSk_afRwZs",
        "outputId": "2f41fbc0-3fbb-4d76-a324-df90b562075a"
      },
      "outputs": [
        {
          "data": {
            "text/plain": [
              "True"
            ]
          },
          "execution_count": 184,
          "metadata": {},
          "output_type": "execute_result"
        }
      ],
      "source": [
        "a = np.arange( 12 )\n",
        "b = a\n",
        "b is a"
      ]
    },
    {
      "cell_type": "code",
      "execution_count": null,
      "metadata": {
        "id": "58aXHxHKRwZs",
        "outputId": "ae82d730-14bb-40a1-d54c-ed3dac8dc1a0"
      },
      "outputs": [
        {
          "data": {
            "text/plain": [
              "(3, 4)"
            ]
          },
          "execution_count": 185,
          "metadata": {},
          "output_type": "execute_result"
        }
      ],
      "source": [
        "b.shape = 3, 4\n",
        "a.shape"
      ]
    },
    {
      "cell_type": "markdown",
      "metadata": {
        "id": "HpR5txt8RwZs"
      },
      "source": [
        "- Cortar una matriz devuelve una vista de ella:"
      ]
    },
    {
      "cell_type": "code",
      "execution_count": null,
      "metadata": {
        "id": "pPzC9uT5RwZs",
        "outputId": "fd74f3d1-bbc2-4872-97df-99e339624f8e"
      },
      "outputs": [
        {
          "data": {
            "text/plain": [
              "array([[ 0,  1,  2,  3],\n",
              "       [ 4,  5,  6,  7],\n",
              "       [ 8,  9, 10, 11]])"
            ]
          },
          "execution_count": 189,
          "metadata": {},
          "output_type": "execute_result"
        }
      ],
      "source": [
        "a"
      ]
    },
    {
      "cell_type": "code",
      "execution_count": null,
      "metadata": {
        "id": "5t3CzVe-RwZt",
        "outputId": "e679be66-13e7-4c29-e22f-2ec257002f80"
      },
      "outputs": [
        {
          "data": {
            "text/plain": [
              "array([[ 1,  2],\n",
              "       [ 5,  6],\n",
              "       [ 9, 10]])"
            ]
          },
          "execution_count": 190,
          "metadata": {},
          "output_type": "execute_result"
        }
      ],
      "source": [
        "s = a [:, 1:3]\n",
        "s"
      ]
    },
    {
      "cell_type": "code",
      "execution_count": null,
      "metadata": {
        "id": "EidBglZwRwZt",
        "outputId": "24082d8e-36ab-4f9a-f657-6680b5bd359b"
      },
      "outputs": [
        {
          "data": {
            "text/plain": [
              "False"
            ]
          },
          "execution_count": 191,
          "metadata": {},
          "output_type": "execute_result"
        }
      ],
      "source": [
        "s is a"
      ]
    },
    {
      "cell_type": "markdown",
      "metadata": {
        "id": "JSn1EBlkRwZt"
      },
      "source": [
        "#### Copia profunda \n",
        "\n",
        "El método de copy hace una copia completa de la matriz y sus datos."
      ]
    },
    {
      "cell_type": "code",
      "execution_count": null,
      "metadata": {
        "id": "ZcDc-TDMRwZt",
        "outputId": "89564a1a-3cce-4121-d4e2-db8715dbaf9c"
      },
      "outputs": [
        {
          "data": {
            "text/plain": [
              "array([[ 0,  1,  2,  3],\n",
              "       [ 4,  5,  6,  7],\n",
              "       [ 8,  9, 10, 11]])"
            ]
          },
          "execution_count": 193,
          "metadata": {},
          "output_type": "execute_result"
        }
      ],
      "source": [
        "# a new array object with new data is created\n",
        "d = a.copy()\n",
        "d"
      ]
    },
    {
      "cell_type": "code",
      "execution_count": null,
      "metadata": {
        "id": "ksyk7H7_RwZt",
        "outputId": "be30255a-d1f7-4c91-d121-38f5f879de84"
      },
      "outputs": [
        {
          "data": {
            "text/plain": [
              "False"
            ]
          },
          "execution_count": 194,
          "metadata": {},
          "output_type": "execute_result"
        }
      ],
      "source": [
        "d is a"
      ]
    },
    {
      "cell_type": "code",
      "execution_count": null,
      "metadata": {
        "id": "j2Zl53lJRwZt",
        "outputId": "2eada87c-edd4-48cb-dd6d-c2265d3b6fd5"
      },
      "outputs": [
        {
          "data": {
            "text/plain": [
              "array([[ True,  True,  True,  True],\n",
              "       [ True,  True,  True,  True],\n",
              "       [ True,  True,  True,  True]])"
            ]
          },
          "execution_count": 195,
          "metadata": {},
          "output_type": "execute_result"
        }
      ],
      "source": [
        "d == a"
      ]
    },
    {
      "cell_type": "markdown",
      "metadata": {
        "id": "Oy2L8G7CRwZt"
      },
      "source": [
        "***\n",
        "## Rutinas de NumPy\n",
        "\n",
        "[Rutinas y funcionalidad](https://numpy.org/devdocs/reference/routines.html#routines)"
      ]
    },
    {
      "cell_type": "markdown",
      "metadata": {
        "id": "3Wcy1bo8RwZt"
      },
      "source": [
        "***\n",
        "## Para usuarios ***pro*** (como ustedes)"
      ]
    },
    {
      "cell_type": "markdown",
      "metadata": {
        "id": "D-yaRU0zRwZu"
      },
      "source": [
        "### *Broadcasting* (difusión)\n",
        "\n",
        "- Este mecanismo permite que las funciones universales manejen de manera significativa entradas que no tienen exactamente la misma forma.\n",
        "\n",
        "[General Broadcasting Rules](https://numpy.org/devdocs/user/basics.broadcasting.html)"
      ]
    },
    {
      "cell_type": "markdown",
      "metadata": {
        "id": "uQ5eT_gSRwZu"
      },
      "source": [
        "- Un ejemplo:"
      ]
    },
    {
      "cell_type": "code",
      "execution_count": null,
      "metadata": {
        "id": "R4eQ6fuURwZu",
        "outputId": "bfb28738-6d6e-41af-8d42-74e7b144ca03"
      },
      "outputs": [
        {
          "data": {
            "text/plain": [
              "array([0, 1, 2, 3])"
            ]
          },
          "execution_count": 223,
          "metadata": {},
          "output_type": "execute_result"
        }
      ],
      "source": [
        "x = np.arange(4)\n",
        "x"
      ]
    },
    {
      "cell_type": "code",
      "execution_count": null,
      "metadata": {
        "id": "D7u2veWLRwZu",
        "outputId": "64572c2b-8673-490e-ab3e-1203daac4180"
      },
      "outputs": [
        {
          "data": {
            "text/plain": [
              "array([[0],\n",
              "       [1],\n",
              "       [2],\n",
              "       [3]])"
            ]
          },
          "execution_count": 211,
          "metadata": {},
          "output_type": "execute_result"
        }
      ],
      "source": [
        "xx = x.reshape(4,1)\n",
        "xx"
      ]
    },
    {
      "cell_type": "code",
      "execution_count": null,
      "metadata": {
        "scrolled": true,
        "id": "oLJexeOZRwZu",
        "outputId": "bd134519-7923-4fa8-b718-5b9303b174d7"
      },
      "outputs": [
        {
          "data": {
            "text/plain": [
              "array([[0, 1, 2, 3],\n",
              "       [1, 2, 3, 4],\n",
              "       [2, 3, 4, 5],\n",
              "       [3, 4, 5, 6]])"
            ]
          },
          "execution_count": 224,
          "metadata": {},
          "output_type": "execute_result"
        }
      ],
      "source": [
        "x + xx"
      ]
    },
    {
      "cell_type": "code",
      "execution_count": null,
      "metadata": {
        "id": "RGruCdcbRwZu",
        "outputId": "8ddaeb71-51f3-47fa-b082-65d90e9aa9ed"
      },
      "outputs": [
        {
          "data": {
            "text/plain": [
              "(4,)"
            ]
          },
          "execution_count": 212,
          "metadata": {},
          "output_type": "execute_result"
        }
      ],
      "source": [
        "x.shape"
      ]
    },
    {
      "cell_type": "code",
      "execution_count": null,
      "metadata": {
        "scrolled": true,
        "id": "egVBYpS7RwZv",
        "outputId": "478f2cbc-c19a-4485-a00b-59909d215f79"
      },
      "outputs": [
        {
          "data": {
            "text/plain": [
              "(4, 1)"
            ]
          },
          "execution_count": 213,
          "metadata": {},
          "output_type": "execute_result"
        }
      ],
      "source": [
        "xx.shape"
      ]
    },
    {
      "cell_type": "markdown",
      "metadata": {
        "id": "KVh-hOIzRwZv"
      },
      "source": [
        "- El *broadcasting* proporciona una forma conveniente de tomar el producto externo (o cualquier otra operación externa) de dos matrices. El siguiente ejemplo muestra una operación de adición externa de dos matrices 1D:"
      ]
    },
    {
      "cell_type": "code",
      "execution_count": null,
      "metadata": {
        "id": "wsf0spUMRwZv"
      },
      "outputs": [],
      "source": [
        "a = np.array([0.0, 10.0, 20.0, 30.0])\n",
        "b = np.array([1.0, 2.0, 3.0])"
      ]
    },
    {
      "cell_type": "code",
      "execution_count": null,
      "metadata": {
        "scrolled": true,
        "id": "s8WePIFzRwZv",
        "outputId": "4bc2b2da-3d30-44cf-b77c-7342af5d9f5a"
      },
      "outputs": [
        {
          "data": {
            "text/plain": [
              "array([[ 1.,  2.,  3.],\n",
              "       [11., 12., 13.],\n",
              "       [21., 22., 23.],\n",
              "       [31., 32., 33.]])"
            ]
          },
          "execution_count": 222,
          "metadata": {},
          "output_type": "execute_result"
        }
      ],
      "source": [
        "a[:, None] + b"
      ]
    },
    {
      "cell_type": "markdown",
      "metadata": {
        "id": "3qeGNDsDRwZv"
      },
      "source": [
        "Aquí, `None` inserta un nuevo eje en `a`, haciéndolo un arreglo bidimensional de `4x1`. Al combinar este arreglo de `4x1` con `b`, que tiene forma `(3,)`, resulta un arreglo de `4x3`"
      ]
    },
    {
      "cell_type": "markdown",
      "metadata": {
        "id": "OofnblGkRwZv"
      },
      "source": [
        "### ¿Por qué funciona?\n",
        "\n",
        "- Cuando se operan dos arreglos, NumPy compara sus formas (`shape`) elemento a elemento, empezando por la última dimensión y hacia arriba. \n",
        "\n",
        "- Dos dimensiones son compatibles cuando:\n",
        "    \n",
        "    - Son iguales, o\n",
        "    \n",
        "    - Una de ellas es 1\n",
        "    \n",
        "- Cuando alguna de las dos dimensiones es uno, **se utiliza la otra**. \n",
        "\n",
        "    - En otras palabras, las dimensiones con tamaño 1 son \"estiradas\" o \"copiadas\" para ajustarse a la otra."
      ]
    },
    {
      "cell_type": "markdown",
      "metadata": {
        "id": "Z1YA-DwPRwZv"
      },
      "source": [
        "***\n",
        "### *Fancy indexing* y trucos de indexación\n",
        "\n",
        "- NumPy ofrece más funciones de indexación que las secuencias regulares de Python. Además de la indexación por enteros y sectores, como vimos antes, las matrices se pueden indexar por matrices de enteros y matrices de booleanos."
      ]
    },
    {
      "cell_type": "code",
      "execution_count": null,
      "metadata": {
        "id": "ttRrMb_-RwZv",
        "outputId": "789adf7a-d5cc-45b0-eefe-088fafa4638d"
      },
      "outputs": [
        {
          "data": {
            "text/plain": [
              "array([  0,   1,   4,   9,  16,  25,  36,  49,  64,  81, 100], dtype=int32)"
            ]
          },
          "execution_count": 229,
          "metadata": {},
          "output_type": "execute_result"
        }
      ],
      "source": [
        "a = np.arange(11)**2\n",
        "a"
      ]
    },
    {
      "cell_type": "code",
      "execution_count": null,
      "metadata": {
        "id": "mYCukk7bRwZv",
        "outputId": "bc82a195-68d0-4193-fc2f-04955e5d9f0a"
      },
      "outputs": [
        {
          "data": {
            "text/plain": [
              "array([1, 1, 3, 8, 5])"
            ]
          },
          "execution_count": 227,
          "metadata": {},
          "output_type": "execute_result"
        }
      ],
      "source": [
        "i = np.array( [ 1,1,3,8,5 ] )\n",
        "i"
      ]
    },
    {
      "cell_type": "code",
      "execution_count": null,
      "metadata": {
        "id": "vBt40BFsRwZw",
        "outputId": "e2a7fdd3-296f-4a8f-9770-2b2cd9033e68"
      },
      "outputs": [
        {
          "data": {
            "text/plain": [
              "array([ 1,  1,  9, 64, 25], dtype=int32)"
            ]
          },
          "execution_count": 228,
          "metadata": {},
          "output_type": "execute_result"
        }
      ],
      "source": [
        "a[i]   # the elements of a at the positions i"
      ]
    },
    {
      "cell_type": "code",
      "execution_count": null,
      "metadata": {
        "id": "zX_AIod_RwZw",
        "outputId": "86c0974c-a35a-4140-a506-0986644cf656"
      },
      "outputs": [
        {
          "data": {
            "text/plain": [
              "array([[3, 4],\n",
              "       [9, 7]])"
            ]
          },
          "execution_count": 231,
          "metadata": {},
          "output_type": "execute_result"
        }
      ],
      "source": [
        "j = np.array([[ 3, 4], [ 9, 7 ]])  # a bidimensional array of indices\n",
        "j"
      ]
    },
    {
      "cell_type": "code",
      "execution_count": null,
      "metadata": {
        "id": "bd-vQkpPRwZw",
        "outputId": "8aa5db84-be0d-4bf3-f82d-499b64967c06"
      },
      "outputs": [
        {
          "data": {
            "text/plain": [
              "array([[ 9, 16],\n",
              "       [81, 49]], dtype=int32)"
            ]
          },
          "execution_count": 233,
          "metadata": {},
          "output_type": "execute_result"
        }
      ],
      "source": [
        "a[j] # the same shape as j"
      ]
    },
    {
      "cell_type": "markdown",
      "metadata": {
        "id": "U-umYT_NRwZw"
      },
      "source": [
        "- También podemos dar índices para más de una dimensión. Las matrices de índices para cada dimensión deben tener la misma forma."
      ]
    },
    {
      "cell_type": "code",
      "execution_count": null,
      "metadata": {
        "id": "BYcrZiQ-RwZw",
        "outputId": "88760e26-7a9c-4bda-9695-820490205401"
      },
      "outputs": [
        {
          "data": {
            "text/plain": [
              "array([[ 0,  1,  2,  3],\n",
              "       [ 4,  5,  6,  7],\n",
              "       [ 8,  9, 10, 11]])"
            ]
          },
          "execution_count": 235,
          "metadata": {},
          "output_type": "execute_result"
        }
      ],
      "source": [
        "a = np.arange(12).reshape(3,4)\n",
        "a"
      ]
    },
    {
      "cell_type": "code",
      "execution_count": null,
      "metadata": {
        "id": "lR1SpoRtRwZw"
      },
      "outputs": [],
      "source": [
        "i = np.array([[0,1], [1,2]])\n",
        "j = np.array([[2,1], [3,3]])"
      ]
    },
    {
      "cell_type": "code",
      "execution_count": null,
      "metadata": {
        "id": "K_aKuJMGRwZw",
        "outputId": "40ba67aa-5b9a-4488-d7f8-29c3c70b23e9"
      },
      "outputs": [
        {
          "data": {
            "text/plain": [
              "array([[0, 1],\n",
              "       [1, 2]])"
            ]
          },
          "execution_count": 238,
          "metadata": {},
          "output_type": "execute_result"
        }
      ],
      "source": [
        "i"
      ]
    },
    {
      "cell_type": "code",
      "execution_count": null,
      "metadata": {
        "id": "PlK-Z6DnRwZx",
        "outputId": "2b7ca0e7-2195-4376-f2e4-b411745baf09"
      },
      "outputs": [
        {
          "data": {
            "text/plain": [
              "array([[2, 1],\n",
              "       [3, 3]])"
            ]
          },
          "execution_count": 239,
          "metadata": {},
          "output_type": "execute_result"
        }
      ],
      "source": [
        "j"
      ]
    },
    {
      "cell_type": "code",
      "execution_count": null,
      "metadata": {
        "id": "IurQ5-mgRwZx",
        "outputId": "6f55cf5a-7d40-4fb0-d399-6d59237d615c"
      },
      "outputs": [
        {
          "data": {
            "text/plain": [
              "array([[ 2,  5],\n",
              "       [ 7, 11]])"
            ]
          },
          "execution_count": 240,
          "metadata": {},
          "output_type": "execute_result"
        }
      ],
      "source": [
        "a[i,j] # i and j must have equal shape"
      ]
    },
    {
      "cell_type": "code",
      "execution_count": null,
      "metadata": {
        "id": "WnmyafejRwZx",
        "outputId": "d9310d1f-15a7-4d56-81fa-eb0a41b622c0"
      },
      "outputs": [
        {
          "data": {
            "text/plain": [
              "array([[ 2,  6],\n",
              "       [ 6, 10]])"
            ]
          },
          "execution_count": 241,
          "metadata": {},
          "output_type": "execute_result"
        }
      ],
      "source": [
        "a[i,2]"
      ]
    },
    {
      "cell_type": "code",
      "execution_count": null,
      "metadata": {
        "id": "KrOJH7vnRwZx",
        "outputId": "9a0d6781-f845-43a9-f47c-87b3a23aa13f"
      },
      "outputs": [
        {
          "data": {
            "text/plain": [
              "array([[[ 2,  1],\n",
              "        [ 3,  3]],\n",
              "\n",
              "       [[ 6,  5],\n",
              "        [ 7,  7]],\n",
              "\n",
              "       [[10,  9],\n",
              "        [11, 11]]])"
            ]
          },
          "execution_count": 242,
          "metadata": {},
          "output_type": "execute_result"
        }
      ],
      "source": [
        "a[:,j]"
      ]
    },
    {
      "cell_type": "markdown",
      "metadata": {
        "id": "kEsF_9GoRwZx"
      },
      "source": [
        "***\n",
        "### Búsqueda del máximo"
      ]
    },
    {
      "cell_type": "code",
      "execution_count": null,
      "metadata": {
        "id": "GSVKgcNgRwZx",
        "outputId": "8211146d-028e-42c8-e0b4-23b3bcb76286"
      },
      "outputs": [
        {
          "data": {
            "text/plain": [
              "array([[ 0.        ,  0.84147098,  0.90929743,  0.14112001],\n",
              "       [-0.7568025 , -0.95892427, -0.2794155 ,  0.6569866 ],\n",
              "       [ 0.98935825,  0.41211849, -0.54402111, -0.99999021],\n",
              "       [-0.53657292,  0.42016704,  0.99060736,  0.65028784],\n",
              "       [-0.28790332, -0.96139749, -0.75098725,  0.14987721]])"
            ]
          },
          "execution_count": 244,
          "metadata": {},
          "output_type": "execute_result"
        }
      ],
      "source": [
        "data = np.sin(np.arange(20)).reshape(5,4)\n",
        "data"
      ]
    },
    {
      "cell_type": "code",
      "execution_count": null,
      "metadata": {
        "id": "TdZPn_4MRwZx",
        "outputId": "33da821d-a4e5-4f8f-e70e-9c2d2dc19c05"
      },
      "outputs": [
        {
          "data": {
            "text/plain": [
              "array([2, 0, 3, 1], dtype=int64)"
            ]
          },
          "execution_count": 247,
          "metadata": {},
          "output_type": "execute_result"
        }
      ],
      "source": [
        "# index of the maxima for each series\n",
        "ind = data.argmax(axis=0)\n",
        "ind"
      ]
    },
    {
      "cell_type": "markdown",
      "metadata": {
        "id": "wVj3czyaRwZx"
      },
      "source": [
        "***\n",
        "###  Asignación múltiple con indexación"
      ]
    },
    {
      "cell_type": "code",
      "execution_count": null,
      "metadata": {
        "id": "hrT7D1eVRwZx",
        "outputId": "04f969eb-4852-44b3-f239-410de8807309"
      },
      "outputs": [
        {
          "data": {
            "text/plain": [
              "array([0, 1, 2, 3, 4])"
            ]
          },
          "execution_count": 248,
          "metadata": {},
          "output_type": "execute_result"
        }
      ],
      "source": [
        "a = np.arange(5)\n",
        "a"
      ]
    },
    {
      "cell_type": "code",
      "execution_count": null,
      "metadata": {
        "id": "Z8Aja1yGRwZy",
        "outputId": "1bfcdd93-48df-4d95-b42c-9ccf96b9eb1f"
      },
      "outputs": [
        {
          "data": {
            "text/plain": [
              "array([0, 0, 2, 0, 0])"
            ]
          },
          "execution_count": 250,
          "metadata": {},
          "output_type": "execute_result"
        }
      ],
      "source": [
        "a[[1,3,4]] = 0\n",
        "a"
      ]
    },
    {
      "cell_type": "code",
      "execution_count": null,
      "metadata": {
        "id": "sfH_QKmsRwZy",
        "outputId": "a20bdd40-8228-4d54-a93d-7760f626bdbe"
      },
      "outputs": [
        {
          "data": {
            "text/plain": [
              "array([2, 1, 3, 3, 4])"
            ]
          },
          "execution_count": 253,
          "metadata": {},
          "output_type": "execute_result"
        }
      ],
      "source": [
        "# Se queda la última asignación\n",
        "a = np.arange(5)\n",
        "a[[0,0,2]] = [1,2,3]\n",
        "a"
      ]
    },
    {
      "cell_type": "markdown",
      "metadata": {
        "id": "LMKpwW7MRwZy"
      },
      "source": [
        "***\n",
        "### Indexado con arreglos booleanos\n",
        "\n",
        "- Cuando indexamos arreglos con otros arreglos de índices (enteros), proporcionamos la lista de índices para elegir. Con los índices booleanos, el enfoque es diferente; **elegimos explícitamente qué elementos de la matriz queremos y cuáles no**.\n",
        "\n",
        "La forma más natural en la que uno puede pensar para la indexación booleana es usar matrices booleanas que tengan la misma forma que la matriz original:"
      ]
    },
    {
      "cell_type": "code",
      "execution_count": null,
      "metadata": {
        "id": "hvHSWftPRwZy",
        "outputId": "e70513da-7c7b-485d-d4c1-ca4e3cae22ee"
      },
      "outputs": [
        {
          "data": {
            "text/plain": [
              "array([[ 0,  1,  2,  3],\n",
              "       [ 4,  5,  6,  7],\n",
              "       [ 8,  9, 10, 11]])"
            ]
          },
          "execution_count": 255,
          "metadata": {},
          "output_type": "execute_result"
        }
      ],
      "source": [
        "a = np.arange(12).reshape(3,4)\n",
        "a"
      ]
    },
    {
      "cell_type": "code",
      "execution_count": null,
      "metadata": {
        "id": "fpmZNyBuRwZy",
        "outputId": "2435116d-de1b-4aa1-c23a-e376270d6df5"
      },
      "outputs": [
        {
          "data": {
            "text/plain": [
              "array([[False, False, False, False],\n",
              "       [False,  True,  True,  True],\n",
              "       [ True,  True,  True,  True]])"
            ]
          },
          "execution_count": 257,
          "metadata": {},
          "output_type": "execute_result"
        }
      ],
      "source": [
        "b = a > 4\n",
        "b"
      ]
    },
    {
      "cell_type": "code",
      "execution_count": null,
      "metadata": {
        "id": "CF8Vl-UyRwZy",
        "outputId": "b7cdd464-3dbe-46aa-e0da-caff789a49e1"
      },
      "outputs": [
        {
          "data": {
            "text/plain": [
              "array([ 5,  6,  7,  8,  9, 10, 11])"
            ]
          },
          "execution_count": 258,
          "metadata": {},
          "output_type": "execute_result"
        }
      ],
      "source": [
        "a[b]"
      ]
    },
    {
      "cell_type": "markdown",
      "metadata": {
        "id": "rtIfndroRwZy"
      },
      "source": [
        "- También se puede utilizar en asignaciones:"
      ]
    },
    {
      "cell_type": "code",
      "execution_count": null,
      "metadata": {
        "id": "Bv1g1wPDRwZy",
        "outputId": "66216a9b-ef9a-44a3-c1b2-5d570ff34341"
      },
      "outputs": [
        {
          "data": {
            "text/plain": [
              "array([[0, 1, 2, 3],\n",
              "       [4, 0, 0, 0],\n",
              "       [0, 0, 0, 0]])"
            ]
          },
          "execution_count": 259,
          "metadata": {},
          "output_type": "execute_result"
        }
      ],
      "source": [
        "a[b] = 0\n",
        "a"
      ]
    },
    {
      "cell_type": "markdown",
      "metadata": {
        "id": "FmjLUNjeRwZz"
      },
      "source": [
        "***\n",
        "## Álgebra lineal"
      ]
    },
    {
      "cell_type": "code",
      "execution_count": null,
      "metadata": {
        "id": "Htkg_P2URwZz",
        "outputId": "f7f85a50-0412-458e-931f-a352cdc68032"
      },
      "outputs": [
        {
          "data": {
            "text/plain": [
              "array([[1., 2.],\n",
              "       [3., 4.]])"
            ]
          },
          "execution_count": 261,
          "metadata": {},
          "output_type": "execute_result"
        }
      ],
      "source": [
        "a = np.array([[1.0, 2.0], [3.0, 4.0]])\n",
        "a"
      ]
    },
    {
      "cell_type": "code",
      "execution_count": null,
      "metadata": {
        "id": "ASMlctc6RwZz",
        "outputId": "d5d41695-43ac-451e-fa5b-596950703b32"
      },
      "outputs": [
        {
          "data": {
            "text/plain": [
              "array([[1., 3.],\n",
              "       [2., 4.]])"
            ]
          },
          "execution_count": 262,
          "metadata": {},
          "output_type": "execute_result"
        }
      ],
      "source": [
        "a.transpose()"
      ]
    },
    {
      "cell_type": "code",
      "execution_count": null,
      "metadata": {
        "id": "N1aViZ88RwZz",
        "outputId": "e2eea7bc-53e3-443b-f239-09f5aff4cf5c"
      },
      "outputs": [
        {
          "data": {
            "text/plain": [
              "array([[-2. ,  1. ],\n",
              "       [ 1.5, -0.5]])"
            ]
          },
          "execution_count": 263,
          "metadata": {},
          "output_type": "execute_result"
        }
      ],
      "source": [
        "np.linalg.inv(a)"
      ]
    },
    {
      "cell_type": "code",
      "execution_count": null,
      "metadata": {
        "id": "R8iWjIBGRwZz",
        "outputId": "185e011a-eb92-47bf-8e42-56a87a573e8e"
      },
      "outputs": [
        {
          "data": {
            "text/plain": [
              "array([[1., 0.],\n",
              "       [0., 1.]])"
            ]
          },
          "execution_count": 264,
          "metadata": {},
          "output_type": "execute_result"
        }
      ],
      "source": [
        "np.eye(2)"
      ]
    },
    {
      "cell_type": "code",
      "execution_count": null,
      "metadata": {
        "id": "gV-7-wJDRwZz",
        "outputId": "b7f095df-8154-43f3-8751-3457928e6e03"
      },
      "outputs": [
        {
          "data": {
            "text/plain": [
              "array([[-1.,  0.],\n",
              "       [ 0., -1.]])"
            ]
          },
          "execution_count": 265,
          "metadata": {},
          "output_type": "execute_result"
        }
      ],
      "source": [
        "j = np.array([[0.0, -1.0], [1.0, 0.0]])\n",
        "\n",
        "j @ j"
      ]
    },
    {
      "cell_type": "code",
      "execution_count": null,
      "metadata": {
        "id": "UFAPRBj2RwZz",
        "outputId": "5028182f-2279-4bcc-8fbc-4cb08120e11a"
      },
      "outputs": [
        {
          "data": {
            "text/plain": [
              "array([[5.],\n",
              "       [7.]])"
            ]
          },
          "execution_count": 267,
          "metadata": {},
          "output_type": "execute_result"
        }
      ],
      "source": [
        "y = np.array([[5.], [7.]])\n",
        "y"
      ]
    },
    {
      "cell_type": "code",
      "execution_count": null,
      "metadata": {
        "id": "oxU2AahQRwZ0",
        "outputId": "65eb89c5-4905-4f7c-8a65-fdde6a513c84"
      },
      "outputs": [
        {
          "data": {
            "text/plain": [
              "array([[-3.],\n",
              "       [ 4.]])"
            ]
          },
          "execution_count": 268,
          "metadata": {},
          "output_type": "execute_result"
        }
      ],
      "source": [
        "np.linalg.solve(a, y)"
      ]
    },
    {
      "cell_type": "code",
      "execution_count": null,
      "metadata": {
        "id": "gTGROUeRRwZ0",
        "outputId": "9a1f22b3-6f01-498e-e281-6f7650087996"
      },
      "outputs": [
        {
          "data": {
            "text/plain": [
              "(array([-0.37228132,  5.37228132]), array([[-0.82456484, -0.41597356],\n",
              "        [ 0.56576746, -0.90937671]]))"
            ]
          },
          "execution_count": 273,
          "metadata": {},
          "output_type": "execute_result"
        }
      ],
      "source": [
        "# eigenvalores y eigenvectores\n",
        "np.linalg.eig(a)"
      ]
    },
    {
      "cell_type": "markdown",
      "metadata": {
        "id": "3IJ_7IB9RwZ0"
      },
      "source": [
        "***\n",
        "## Ejemplo de simulación de Monte Carlo\n",
        "\n",
        "Vamos a computar una aproximación de $\\pi$ utilizando el método de simulación de Monte Carlo."
      ]
    },
    {
      "cell_type": "code",
      "execution_count": null,
      "metadata": {
        "id": "YfhYu0b7RwZ0"
      },
      "outputs": [],
      "source": [
        "N = 100 #1000000"
      ]
    },
    {
      "cell_type": "code",
      "execution_count": null,
      "metadata": {
        "id": "uItPxWXFRwZ0"
      },
      "outputs": [],
      "source": [
        "# Lista de coordenadas aleatorias\n",
        "x = np.random.random(N)\n",
        "y = np.random.random(N)\n",
        "#x, y"
      ]
    },
    {
      "cell_type": "code",
      "execution_count": null,
      "metadata": {
        "id": "9YXRSm97RwZ0"
      },
      "outputs": [],
      "source": [
        "# Pares dentro del círculo\n",
        "inside = (x-0.5)**2 + (y-0.5)**2 <= (0.5)**2\n",
        "# inside"
      ]
    },
    {
      "cell_type": "code",
      "execution_count": null,
      "metadata": {
        "id": "67NjWC2YRwZ0",
        "outputId": "3d26a018-b9f5-40b7-af4d-675174e7db8b"
      },
      "outputs": [
        {
          "data": {
            "text/plain": [
              "3.24"
            ]
          },
          "execution_count": 80,
          "metadata": {},
          "output_type": "execute_result"
        }
      ],
      "source": [
        "# pi/4 = #{adentro} / área rectángulo = #{adentro} / 1\n",
        "pi_approx = 4*inside.mean()\n",
        "pi_approx"
      ]
    },
    {
      "cell_type": "markdown",
      "metadata": {
        "id": "sQ--DHF2RwZ0"
      },
      "source": [
        "***\n",
        "## Ejemplos de simulación de Monte Carlo\n",
        "\n",
        "Cada día se acercan a una dulcería una cantidad $X$ de personas, de acuerdo con una distribución de Poisson con parámetro $\\lambda = 5$. A cada una de las personas se les ofrecen $N$ tipos de bombones de chocolates de manera independiente, en donde $N$ está distribuida uniformemente entre $1$ y $5$. Cada persona decide si comprar cada chocolate o no, de manera independiente a los otros chocolates, con probabilidad $1/2$. Al final, compra $Y$ de esos $N$ chocolates que se le ofrecieron. El costo de cada chocolate es de Q1.25 por el número de chocolate. Por ejemplo, el chocolate de tipo 1 cuesta Q1.25, el chocolate de tipo 3 cuesta Q3.75, y así sucesivamente hasta el chocolate de tipo 5.\n",
        "\n",
        "- ¿Cuál es la media de ventas de un día de esta dulcería?"
      ]
    },
    {
      "cell_type": "code",
      "execution_count": null,
      "metadata": {
        "id": "10Fi5eArRwZ0",
        "outputId": "4216023a-67d3-48fd-e73e-49d05806b6e4"
      },
      "outputs": [
        {
          "name": "stdout",
          "output_type": "stream",
          "text": [
            "[5.   1.25 0.   2.5  1.25]\n",
            "Sales a day:  10.0\n"
          ]
        }
      ],
      "source": [
        "# Simulamos una realización\n",
        "x = np.random.poisson(5)\n",
        "\n",
        "sales = np.zeros(x)\n",
        "for i in range(len(sales)): \n",
        "    n = np.random.randint(1, 6)\n",
        "    prices = 1.25*np.arange(n)\n",
        "    buy = np.random.choice([True, False], n)\n",
        "    sales[i] = prices[buy].sum()\n",
        "\n",
        "print(sales)\n",
        "print(\"Sales a day: \", sales.sum())"
      ]
    },
    {
      "cell_type": "markdown",
      "metadata": {
        "id": "lePHXk0YRwZ1"
      },
      "source": [
        "Ahora vamos a simular muchas realizaciones y obtener la media de ventas diarias. "
      ]
    },
    {
      "cell_type": "code",
      "execution_count": null,
      "metadata": {
        "id": "hxbHO1NARwZ1"
      },
      "outputs": [],
      "source": [
        "def salesday(): \n",
        "    x = np.random.poisson(5)\n",
        "    sales = np.zeros(x)\n",
        "    for i in range(len(sales)): \n",
        "        n = np.random.randint(1, 6)\n",
        "        prices = 1.25 * np.arange(1, n+1)\n",
        "        buy = np.random.randint(0, 2, size=n)\n",
        "        sales[i] = (prices * buy).sum()\n",
        "    return sales.sum()"
      ]
    },
    {
      "cell_type": "code",
      "execution_count": null,
      "metadata": {
        "id": "AbvOugTTRwZ1",
        "outputId": "6027fc04-650f-4c02-c51e-784ff7c9a45d"
      },
      "outputs": [
        {
          "data": {
            "text/plain": [
              "22.12"
            ]
          },
          "execution_count": 35,
          "metadata": {},
          "output_type": "execute_result"
        }
      ],
      "source": [
        "K = 1000 #00\n",
        "sales_realizations = np.array([salesday() for _ in range(K)])\n",
        "sales_realizations.mean()\n"
      ]
    },
    {
      "cell_type": "markdown",
      "metadata": {
        "id": "Irw2CdO2RwZ1"
      },
      "source": [
        "### Numba\n",
        "\n",
        "https://numba.pydata.org/"
      ]
    },
    {
      "cell_type": "code",
      "execution_count": null,
      "metadata": {
        "id": "Bz54i44gRwZ1",
        "outputId": "3a3c6c97-fafd-45be-cf86-1f24775a8dcd"
      },
      "outputs": [
        {
          "name": "stdout",
          "output_type": "stream",
          "text": [
            "103 µs ± 1.69 µs per loop (mean ± std. dev. of 5 runs, 10000 loops each)\n"
          ]
        }
      ],
      "source": [
        "%timeit -r 5 salesday()"
      ]
    },
    {
      "cell_type": "code",
      "execution_count": null,
      "metadata": {
        "id": "zug5KxVURwZ1"
      },
      "outputs": [],
      "source": [
        "from numba import jit\n",
        "\n",
        "@jit(nopython=True)\n",
        "def salesday(): \n",
        "    x = np.random.poisson(5)\n",
        "    sales = np.zeros(x)\n",
        "    for i in range(len(sales)): \n",
        "        n = np.random.randint(1, 6)\n",
        "        prices = 1.25 * np.arange(1, n+1)\n",
        "        buy = np.random.randint(0, 2, size=n)\n",
        "        sales[i] = (prices * buy).sum()\n",
        "    return sales.sum()"
      ]
    },
    {
      "cell_type": "code",
      "execution_count": null,
      "metadata": {
        "id": "ZyjxZh0_RwZ1",
        "outputId": "b6cd0eb7-2627-48af-82ca-1726908585e2"
      },
      "outputs": [
        {
          "name": "stdout",
          "output_type": "stream",
          "text": [
            "The slowest run took 6.62 times longer than the fastest. This could mean that an intermediate result is being cached.\n",
            "3.42 µs ± 2.64 µs per loop (mean ± std. dev. of 5 runs, 1 loop each)\n"
          ]
        }
      ],
      "source": [
        "%timeit -r 5 salesday()"
      ]
    },
    {
      "cell_type": "code",
      "execution_count": null,
      "metadata": {
        "id": "bupZeZiZRwZ1",
        "outputId": "4a9c7620-a69e-475b-8610-c9702c307f4d"
      },
      "outputs": [
        {
          "data": {
            "text/plain": [
              "21.9384125"
            ]
          },
          "execution_count": 38,
          "metadata": {},
          "output_type": "execute_result"
        }
      ],
      "source": [
        "K = 100000\n",
        "sales_realizations = np.array([salesday() for _ in range(K)])\n",
        "sales_realizations.mean()"
      ]
    },
    {
      "cell_type": "markdown",
      "metadata": {
        "id": "NNFteCggRwZ1"
      },
      "source": [
        "***\n",
        "## Ejercicios\n",
        "\n",
        "1. De las siguientes secciones, escoger 25 funciones de NumPy y mostrar su utilización en un ejemplo.\n",
        "\n",
        "    - [Array creation routines](https://numpy.org/devdocs/reference/routines.array-creation.html)\n",
        "\n",
        "    - [Array manipulation routines](https://numpy.org/devdocs/reference/routines.array-manipulation.html)\n",
        "\n",
        "    - [Binary operations](https://numpy.org/devdocs/reference/routines.bitwise.html)\n",
        "\n",
        "    - [String operations](https://numpy.org/devdocs/reference/routines.char.html)\n",
        "    \n",
        "\n",
        "2. Crear un ejemplo de cómo guardar y cargar arreglos de un archivo binario `.npy` y `.npz`:\n",
        "\n",
        "    - [NumPy binary files (NPY, NPZ)](https://numpy.org/devdocs/reference/routines.io.html#numpy-binary-files-npy-npz)\n",
        "    \n",
        "3. Crear un ejemplo de cómo guardar y cargar arreglos de un archivo de texto `.txt`:\n",
        "\n",
        "    - [NumPy Text files](https://numpy.org/devdocs/reference/routines.io.html#text-files)    \n",
        "    \n",
        "4. Crear una función llamada `ols_estimation` que reciba las variables `X` e `y`, que corresponden a una matriz de diseño con las variables $(x_{1i}, \\ldots, x_{5i})$ e $y_i$. Puede guiarse con los datos simulados.\n",
        "    - Esta función debe computar los parámetros del modelo de regresión lineal $y = X\\beta + u$ por el método de mínimos cuadrados ordinarios. \n",
        "    - El cómputo debe llevarse a cabo utilizando operaciones matriciales. \n",
        "    - Estos parámetros deben ser devueltos como un arreglo de NumPy. \n",
        "    - Compare el resultado de su estimación con el de `beta_true` para diferentes configuraciones de ruido. "
      ]
    },
    {
      "cell_type": "code",
      "execution_count": null,
      "metadata": {
        "id": "2IPXyqg0RwZ2",
        "outputId": "0712e1f9-823b-4cff-de6d-f6e0967cc959"
      },
      "outputs": [
        {
          "name": "stdout",
          "output_type": "stream",
          "text": [
            "[[0.47776957]\n",
            " [0.48416202]\n",
            " [0.63520921]\n",
            " [0.76607352]\n",
            " [0.97886951]\n",
            " [0.26585166]]\n"
          ]
        }
      ],
      "source": [
        "n = 25\n",
        "X = np.column_stack((np.ones((n, 1)), np.random.rand(n, 5)))\n",
        "beta_true = np.random.rand(6, 1)\n",
        "y = (X @ beta_true) + 0.5*np.random.rand(n, 1)\n",
        "\n",
        "print(beta_true)"
      ]
    },
    {
      "cell_type": "code",
      "execution_count": null,
      "metadata": {
        "id": "AfaQ4ogKRwZ2",
        "outputId": "2ceaa633-3be2-4a5d-851d-66560158cab7"
      },
      "outputs": [
        {
          "data": {
            "text/plain": [
              "((25, 6), (25, 1))"
            ]
          },
          "execution_count": 14,
          "metadata": {},
          "output_type": "execute_result"
        }
      ],
      "source": [
        "X.shape, y.shape"
      ]
    },
    {
      "cell_type": "code",
      "execution_count": null,
      "metadata": {
        "id": "WZuMTEzFRwZ2"
      },
      "outputs": [],
      "source": [
        ""
      ]
    }
  ],
  "metadata": {
    "kernelspec": {
      "display_name": "Python 3",
      "language": "python",
      "name": "python3"
    },
    "language_info": {
      "codemirror_mode": {
        "name": "ipython",
        "version": 3
      },
      "file_extension": ".py",
      "mimetype": "text/x-python",
      "name": "python",
      "nbconvert_exporter": "python",
      "pygments_lexer": "ipython3",
      "version": "3.9.7"
    },
    "colab": {
      "name": "numpy.ipynb",
      "provenance": [],
      "include_colab_link": true
    }
  },
  "nbformat": 4,
  "nbformat_minor": 0
}